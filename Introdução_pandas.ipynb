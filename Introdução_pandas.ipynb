{
  "nbformat": 4,
  "nbformat_minor": 0,
  "metadata": {
    "colab": {
      "name": "Introdução pandas",
      "provenance": [],
      "authorship_tag": "ABX9TyM2K1QVNhVWcyvag2bKRUdZ",
      "include_colab_link": true
    },
    "kernelspec": {
      "name": "python3",
      "display_name": "Python 3"
    },
    "language_info": {
      "name": "python"
    }
  },
  "cells": [
    {
      "cell_type": "markdown",
      "metadata": {
        "id": "view-in-github",
        "colab_type": "text"
      },
      "source": [
        "<a href=\"https://colab.research.google.com/github/tuliosc8/estudando-ciencia-de-dados/blob/main/Introdu%C3%A7%C3%A3o_pandas.ipynb\" target=\"_parent\"><img src=\"https://colab.research.google.com/assets/colab-badge.svg\" alt=\"Open In Colab\"/></a>"
      ]
    },
    {
      "cell_type": "markdown",
      "metadata": {
        "id": "m79EXA_9aas-"
      },
      "source": [
        "Introdção ao pandas. "
      ]
    },
    {
      "cell_type": "markdown",
      "metadata": {
        "id": "r9WQ7ky5pTex"
      },
      "source": [
        ""
      ]
    },
    {
      "cell_type": "markdown",
      "metadata": {
        "id": "ZfZtmmS0amh7"
      },
      "source": [
        "Conjuntos: Os elementos não são armazenados em uma ordem específica e confiável;\n",
        "Conjuntos não contém elementos repetidos.\n"
      ]
    },
    {
      "cell_type": "code",
      "metadata": {
        "colab": {
          "base_uri": "https://localhost:8080/"
        },
        "id": "Rhqj7nD-YFvY",
        "outputId": "837c73a1-e67d-470b-c302-c60ac2b739dd"
      },
      "source": [
        "conjunto  = {1, 'a', 3, 4,'a'}\n",
        "type(conjunto)"
      ],
      "execution_count": null,
      "outputs": [
        {
          "output_type": "execute_result",
          "data": {
            "text/plain": [
              "set"
            ]
          },
          "metadata": {
            "tags": []
          },
          "execution_count": 241
        }
      ]
    },
    {
      "cell_type": "markdown",
      "metadata": {
        "id": "GRVT2ncoeHq3"
      },
      "source": [
        "Dicionarios : estrutura de dados do tipo coleção, ou seja, um objeto que contém mais que um valor . Diferentemente das listas em que os elementos são acessados através de uma posição ou índice, nos dicionários o acesso às informações ocorrem através de chaves."
      ]
    },
    {
      "cell_type": "code",
      "metadata": {
        "colab": {
          "base_uri": "https://localhost:8080/"
        },
        "id": "dWcl41EteHXZ",
        "outputId": "3f8ca9a2-78aa-42c8-9d87-99596861d7f7"
      },
      "source": [
        "dicionario = {'nome': 'Túlio', 'sexo': 'M', 'idade': 41, 'lista':[1,2,3,4,5,6,7,8] }\n",
        "dicionario\n"
      ],
      "execution_count": null,
      "outputs": [
        {
          "output_type": "execute_result",
          "data": {
            "text/plain": [
              "{'idade': 41, 'lista': [1, 2, 3, 4, 5, 6, 7, 8], 'nome': 'Túlio', 'sexo': 'M'}"
            ]
          },
          "metadata": {
            "tags": []
          },
          "execution_count": 2
        }
      ]
    },
    {
      "cell_type": "markdown",
      "metadata": {
        "id": "HyT-SiYFfvs7"
      },
      "source": [
        "\n",
        "imprimindo nome dos parametros e valores do dicionario \n",
        "---\n",
        "\n"
      ]
    },
    {
      "cell_type": "code",
      "metadata": {
        "colab": {
          "base_uri": "https://localhost:8080/"
        },
        "id": "KPm5z0Y4e7Ve",
        "outputId": "889f35fe-9715-47f0-84f3-5dc475a013c9"
      },
      "source": [
        "print(dicionario.keys())\n",
        "print(dicionario.values())"
      ],
      "execution_count": null,
      "outputs": [
        {
          "output_type": "stream",
          "text": [
            "dict_keys(['nome', 'sexo', 'idade', 'lista'])\n",
            "dict_values(['Túlio', 'M', 41, [1, 2, 3, 4, 5, 6, 7, 8]])\n"
          ],
          "name": "stdout"
        }
      ]
    },
    {
      "cell_type": "markdown",
      "metadata": {
        "id": "3AMPWEHVhEtY"
      },
      "source": [
        "Criando 70 valores aleatorios entre 2 e 14 e colocando em uma matriz 14x5 reshape(14,5) trasforma em matriz e round define casas decimais  "
      ]
    },
    {
      "cell_type": "code",
      "metadata": {
        "id": "_t7qXdv8f87p"
      },
      "source": [
        "paramentos = {'low': 2, 'high': 10, 'size': 70}\n",
        "import numpy as np\n",
        "nts = np.random.uniform(**paramentos).reshape(14,5).round(1)\n",
        "nomes = ['Adao','Ana','Breno','Carlos','Gustavo','Karla','Lucia','Maria','Talles','Tommy','Tulio','Sandra', 'Giovana','Chun-li' ]\n",
        "sexo =['M','F','M','M','F','F','M','F','F','F','F','M','M','M']\n",
        "provas = ['P1','P2','P3','P4','P5']"
      ],
      "execution_count": null,
      "outputs": []
    },
    {
      "cell_type": "markdown",
      "metadata": {
        "id": "Dp75tBMxjsuO"
      },
      "source": [
        "importação do panda e faz a criação do data frame com indece recebendo nome da variavel nomes e colunas recebendo nome da variavel provas. "
      ]
    },
    {
      "cell_type": "code",
      "metadata": {
        "colab": {
          "base_uri": "https://localhost:8080/",
          "height": 483
        },
        "id": "U5psarQKjtb1",
        "outputId": "ee524991-0dc9-4eca-e735-f1764c23fba1"
      },
      "source": [
        "import pandas as pd\n",
        "notas = pd.DataFrame(nts, index = nomes, columns = provas).sort_index()\n",
        "notas\n"
      ],
      "execution_count": null,
      "outputs": [
        {
          "output_type": "execute_result",
          "data": {
            "text/html": [
              "<div>\n",
              "<style scoped>\n",
              "    .dataframe tbody tr th:only-of-type {\n",
              "        vertical-align: middle;\n",
              "    }\n",
              "\n",
              "    .dataframe tbody tr th {\n",
              "        vertical-align: top;\n",
              "    }\n",
              "\n",
              "    .dataframe thead th {\n",
              "        text-align: right;\n",
              "    }\n",
              "</style>\n",
              "<table border=\"1\" class=\"dataframe\">\n",
              "  <thead>\n",
              "    <tr style=\"text-align: right;\">\n",
              "      <th></th>\n",
              "      <th>P1</th>\n",
              "      <th>P2</th>\n",
              "      <th>P3</th>\n",
              "      <th>P4</th>\n",
              "      <th>P5</th>\n",
              "    </tr>\n",
              "  </thead>\n",
              "  <tbody>\n",
              "    <tr>\n",
              "      <th>Adao</th>\n",
              "      <td>8.4</td>\n",
              "      <td>9.9</td>\n",
              "      <td>2.9</td>\n",
              "      <td>7.1</td>\n",
              "      <td>8.0</td>\n",
              "    </tr>\n",
              "    <tr>\n",
              "      <th>Ana</th>\n",
              "      <td>2.8</td>\n",
              "      <td>5.4</td>\n",
              "      <td>7.7</td>\n",
              "      <td>2.2</td>\n",
              "      <td>5.5</td>\n",
              "    </tr>\n",
              "    <tr>\n",
              "      <th>Breno</th>\n",
              "      <td>8.7</td>\n",
              "      <td>5.7</td>\n",
              "      <td>2.6</td>\n",
              "      <td>7.0</td>\n",
              "      <td>6.9</td>\n",
              "    </tr>\n",
              "    <tr>\n",
              "      <th>Carlos</th>\n",
              "      <td>5.6</td>\n",
              "      <td>7.1</td>\n",
              "      <td>9.2</td>\n",
              "      <td>9.3</td>\n",
              "      <td>6.7</td>\n",
              "    </tr>\n",
              "    <tr>\n",
              "      <th>Chun-li</th>\n",
              "      <td>3.2</td>\n",
              "      <td>3.8</td>\n",
              "      <td>6.9</td>\n",
              "      <td>2.6</td>\n",
              "      <td>8.0</td>\n",
              "    </tr>\n",
              "    <tr>\n",
              "      <th>Giovana</th>\n",
              "      <td>5.5</td>\n",
              "      <td>5.2</td>\n",
              "      <td>5.6</td>\n",
              "      <td>4.9</td>\n",
              "      <td>4.9</td>\n",
              "    </tr>\n",
              "    <tr>\n",
              "      <th>Gustavo</th>\n",
              "      <td>5.3</td>\n",
              "      <td>7.7</td>\n",
              "      <td>3.7</td>\n",
              "      <td>9.9</td>\n",
              "      <td>6.2</td>\n",
              "    </tr>\n",
              "    <tr>\n",
              "      <th>Karla</th>\n",
              "      <td>7.6</td>\n",
              "      <td>2.0</td>\n",
              "      <td>9.9</td>\n",
              "      <td>6.5</td>\n",
              "      <td>7.1</td>\n",
              "    </tr>\n",
              "    <tr>\n",
              "      <th>Lucia</th>\n",
              "      <td>3.4</td>\n",
              "      <td>2.1</td>\n",
              "      <td>7.9</td>\n",
              "      <td>4.6</td>\n",
              "      <td>3.0</td>\n",
              "    </tr>\n",
              "    <tr>\n",
              "      <th>Maria</th>\n",
              "      <td>9.0</td>\n",
              "      <td>8.3</td>\n",
              "      <td>8.2</td>\n",
              "      <td>4.4</td>\n",
              "      <td>7.8</td>\n",
              "    </tr>\n",
              "    <tr>\n",
              "      <th>Sandra</th>\n",
              "      <td>2.1</td>\n",
              "      <td>9.3</td>\n",
              "      <td>2.7</td>\n",
              "      <td>6.1</td>\n",
              "      <td>6.0</td>\n",
              "    </tr>\n",
              "    <tr>\n",
              "      <th>Talles</th>\n",
              "      <td>4.6</td>\n",
              "      <td>7.5</td>\n",
              "      <td>2.2</td>\n",
              "      <td>7.9</td>\n",
              "      <td>6.5</td>\n",
              "    </tr>\n",
              "    <tr>\n",
              "      <th>Tommy</th>\n",
              "      <td>8.0</td>\n",
              "      <td>7.5</td>\n",
              "      <td>2.1</td>\n",
              "      <td>7.6</td>\n",
              "      <td>8.8</td>\n",
              "    </tr>\n",
              "    <tr>\n",
              "      <th>Tulio</th>\n",
              "      <td>2.4</td>\n",
              "      <td>6.0</td>\n",
              "      <td>9.8</td>\n",
              "      <td>5.7</td>\n",
              "      <td>2.3</td>\n",
              "    </tr>\n",
              "  </tbody>\n",
              "</table>\n",
              "</div>"
            ],
            "text/plain": [
              "          P1   P2   P3   P4   P5\n",
              "Adao     8.4  9.9  2.9  7.1  8.0\n",
              "Ana      2.8  5.4  7.7  2.2  5.5\n",
              "Breno    8.7  5.7  2.6  7.0  6.9\n",
              "Carlos   5.6  7.1  9.2  9.3  6.7\n",
              "Chun-li  3.2  3.8  6.9  2.6  8.0\n",
              "Giovana  5.5  5.2  5.6  4.9  4.9\n",
              "Gustavo  5.3  7.7  3.7  9.9  6.2\n",
              "Karla    7.6  2.0  9.9  6.5  7.1\n",
              "Lucia    3.4  2.1  7.9  4.6  3.0\n",
              "Maria    9.0  8.3  8.2  4.4  7.8\n",
              "Sandra   2.1  9.3  2.7  6.1  6.0\n",
              "Talles   4.6  7.5  2.2  7.9  6.5\n",
              "Tommy    8.0  7.5  2.1  7.6  8.8\n",
              "Tulio    2.4  6.0  9.8  5.7  2.3"
            ]
          },
          "metadata": {
            "tags": []
          },
          "execution_count": 5
        }
      ]
    },
    {
      "cell_type": "markdown",
      "metadata": {
        "id": "81Lz8DLRo_tr"
      },
      "source": [
        "notas.T.    T= transponder que transforma colunas em linhas e linhas em colunas."
      ]
    },
    {
      "cell_type": "code",
      "metadata": {
        "id": "vR4MLRpzowuJ"
      },
      "source": [
        "notas.T"
      ],
      "execution_count": null,
      "outputs": []
    },
    {
      "cell_type": "markdown",
      "metadata": {
        "id": "zutVs0yapXaK"
      },
      "source": [
        "pegando as 3 primeiras linhas"
      ]
    },
    {
      "cell_type": "code",
      "metadata": {
        "colab": {
          "base_uri": "https://localhost:8080/",
          "height": 142
        },
        "id": "iGY7bbBYpX1p",
        "outputId": "7b4fd99d-a561-4521-9008-13fb383ad64a"
      },
      "source": [
        "notas.head(3)\n"
      ],
      "execution_count": null,
      "outputs": [
        {
          "output_type": "execute_result",
          "data": {
            "text/html": [
              "<div>\n",
              "<style scoped>\n",
              "    .dataframe tbody tr th:only-of-type {\n",
              "        vertical-align: middle;\n",
              "    }\n",
              "\n",
              "    .dataframe tbody tr th {\n",
              "        vertical-align: top;\n",
              "    }\n",
              "\n",
              "    .dataframe thead th {\n",
              "        text-align: right;\n",
              "    }\n",
              "</style>\n",
              "<table border=\"1\" class=\"dataframe\">\n",
              "  <thead>\n",
              "    <tr style=\"text-align: right;\">\n",
              "      <th></th>\n",
              "      <th>P1</th>\n",
              "      <th>P2</th>\n",
              "      <th>P3</th>\n",
              "      <th>P4</th>\n",
              "      <th>P5</th>\n",
              "    </tr>\n",
              "  </thead>\n",
              "  <tbody>\n",
              "    <tr>\n",
              "      <th>Adao</th>\n",
              "      <td>7.2</td>\n",
              "      <td>7.6</td>\n",
              "      <td>6.3</td>\n",
              "      <td>8.3</td>\n",
              "      <td>5.5</td>\n",
              "    </tr>\n",
              "    <tr>\n",
              "      <th>Ana</th>\n",
              "      <td>8.8</td>\n",
              "      <td>4.7</td>\n",
              "      <td>2.3</td>\n",
              "      <td>6.2</td>\n",
              "      <td>6.5</td>\n",
              "    </tr>\n",
              "    <tr>\n",
              "      <th>Breno</th>\n",
              "      <td>6.7</td>\n",
              "      <td>4.3</td>\n",
              "      <td>2.1</td>\n",
              "      <td>8.4</td>\n",
              "      <td>2.5</td>\n",
              "    </tr>\n",
              "  </tbody>\n",
              "</table>\n",
              "</div>"
            ],
            "text/plain": [
              "        P1   P2   P3   P4   P5\n",
              "Adao   7.2  7.6  6.3  8.3  5.5\n",
              "Ana    8.8  4.7  2.3  6.2  6.5\n",
              "Breno  6.7  4.3  2.1  8.4  2.5"
            ]
          },
          "metadata": {
            "tags": []
          },
          "execution_count": 278
        }
      ]
    },
    {
      "cell_type": "markdown",
      "metadata": {
        "id": "9CLQ5Wh7IkT6"
      },
      "source": [
        "pegando as 3 ultimas linhas"
      ]
    },
    {
      "cell_type": "code",
      "metadata": {
        "colab": {
          "base_uri": "https://localhost:8080/",
          "height": 204
        },
        "id": "s0unfSE7pvPt",
        "outputId": "25d39a0e-6ce0-45b6-cad9-7f62b62e9258"
      },
      "source": [
        "notas.tail(3).T"
      ],
      "execution_count": null,
      "outputs": [
        {
          "output_type": "execute_result",
          "data": {
            "text/html": [
              "<div>\n",
              "<style scoped>\n",
              "    .dataframe tbody tr th:only-of-type {\n",
              "        vertical-align: middle;\n",
              "    }\n",
              "\n",
              "    .dataframe tbody tr th {\n",
              "        vertical-align: top;\n",
              "    }\n",
              "\n",
              "    .dataframe thead th {\n",
              "        text-align: right;\n",
              "    }\n",
              "</style>\n",
              "<table border=\"1\" class=\"dataframe\">\n",
              "  <thead>\n",
              "    <tr style=\"text-align: right;\">\n",
              "      <th></th>\n",
              "      <th>Talles</th>\n",
              "      <th>Tommy</th>\n",
              "      <th>Tulio</th>\n",
              "    </tr>\n",
              "  </thead>\n",
              "  <tbody>\n",
              "    <tr>\n",
              "      <th>P1</th>\n",
              "      <td>8.0</td>\n",
              "      <td>8.9</td>\n",
              "      <td>7.4</td>\n",
              "    </tr>\n",
              "    <tr>\n",
              "      <th>P2</th>\n",
              "      <td>7.5</td>\n",
              "      <td>9.8</td>\n",
              "      <td>4.4</td>\n",
              "    </tr>\n",
              "    <tr>\n",
              "      <th>P3</th>\n",
              "      <td>9.3</td>\n",
              "      <td>6.5</td>\n",
              "      <td>3.6</td>\n",
              "    </tr>\n",
              "    <tr>\n",
              "      <th>P4</th>\n",
              "      <td>5.6</td>\n",
              "      <td>4.4</td>\n",
              "      <td>8.1</td>\n",
              "    </tr>\n",
              "    <tr>\n",
              "      <th>P5</th>\n",
              "      <td>7.5</td>\n",
              "      <td>9.6</td>\n",
              "      <td>7.6</td>\n",
              "    </tr>\n",
              "  </tbody>\n",
              "</table>\n",
              "</div>"
            ],
            "text/plain": [
              "    Talles  Tommy  Tulio\n",
              "P1     8.0    8.9    7.4\n",
              "P2     7.5    9.8    4.4\n",
              "P3     9.3    6.5    3.6\n",
              "P4     5.6    4.4    8.1\n",
              "P5     7.5    9.6    7.6"
            ]
          },
          "metadata": {
            "tags": []
          },
          "execution_count": 279
        }
      ]
    },
    {
      "cell_type": "markdown",
      "metadata": {
        "id": "AIpJA7p8Ipgn"
      },
      "source": [
        "pegando 4 linhas aleatórias. "
      ]
    },
    {
      "cell_type": "code",
      "metadata": {
        "colab": {
          "base_uri": "https://localhost:8080/",
          "height": 173
        },
        "id": "x91lrCHDy6wo",
        "outputId": "dbc94f09-3a52-4a80-d42e-db2a069e5148"
      },
      "source": [
        "notas.sample(4)"
      ],
      "execution_count": null,
      "outputs": [
        {
          "output_type": "execute_result",
          "data": {
            "text/html": [
              "<div>\n",
              "<style scoped>\n",
              "    .dataframe tbody tr th:only-of-type {\n",
              "        vertical-align: middle;\n",
              "    }\n",
              "\n",
              "    .dataframe tbody tr th {\n",
              "        vertical-align: top;\n",
              "    }\n",
              "\n",
              "    .dataframe thead th {\n",
              "        text-align: right;\n",
              "    }\n",
              "</style>\n",
              "<table border=\"1\" class=\"dataframe\">\n",
              "  <thead>\n",
              "    <tr style=\"text-align: right;\">\n",
              "      <th></th>\n",
              "      <th>P1</th>\n",
              "      <th>P2</th>\n",
              "      <th>P3</th>\n",
              "      <th>P4</th>\n",
              "      <th>P5</th>\n",
              "    </tr>\n",
              "  </thead>\n",
              "  <tbody>\n",
              "    <tr>\n",
              "      <th>Sandra</th>\n",
              "      <td>4.7</td>\n",
              "      <td>7.3</td>\n",
              "      <td>3.2</td>\n",
              "      <td>5.3</td>\n",
              "      <td>6.2</td>\n",
              "    </tr>\n",
              "    <tr>\n",
              "      <th>Adao</th>\n",
              "      <td>7.2</td>\n",
              "      <td>7.6</td>\n",
              "      <td>6.3</td>\n",
              "      <td>8.3</td>\n",
              "      <td>5.5</td>\n",
              "    </tr>\n",
              "    <tr>\n",
              "      <th>Tulio</th>\n",
              "      <td>7.4</td>\n",
              "      <td>4.4</td>\n",
              "      <td>3.6</td>\n",
              "      <td>8.1</td>\n",
              "      <td>7.6</td>\n",
              "    </tr>\n",
              "    <tr>\n",
              "      <th>Breno</th>\n",
              "      <td>6.7</td>\n",
              "      <td>4.3</td>\n",
              "      <td>2.1</td>\n",
              "      <td>8.4</td>\n",
              "      <td>2.5</td>\n",
              "    </tr>\n",
              "  </tbody>\n",
              "</table>\n",
              "</div>"
            ],
            "text/plain": [
              "         P1   P2   P3   P4   P5\n",
              "Sandra  4.7  7.3  3.2  5.3  6.2\n",
              "Adao    7.2  7.6  6.3  8.3  5.5\n",
              "Tulio   7.4  4.4  3.6  8.1  7.6\n",
              "Breno   6.7  4.3  2.1  8.4  2.5"
            ]
          },
          "metadata": {
            "tags": []
          },
          "execution_count": 280
        }
      ]
    },
    {
      "cell_type": "code",
      "metadata": {
        "colab": {
          "base_uri": "https://localhost:8080/",
          "height": 297
        },
        "id": "tNbxVNYuzKYp",
        "outputId": "fd2c6581-442a-42fd-b99b-fbc1c111f949"
      },
      "source": [
        "notas.describe().round(1)"
      ],
      "execution_count": null,
      "outputs": [
        {
          "output_type": "execute_result",
          "data": {
            "text/html": [
              "<div>\n",
              "<style scoped>\n",
              "    .dataframe tbody tr th:only-of-type {\n",
              "        vertical-align: middle;\n",
              "    }\n",
              "\n",
              "    .dataframe tbody tr th {\n",
              "        vertical-align: top;\n",
              "    }\n",
              "\n",
              "    .dataframe thead th {\n",
              "        text-align: right;\n",
              "    }\n",
              "</style>\n",
              "<table border=\"1\" class=\"dataframe\">\n",
              "  <thead>\n",
              "    <tr style=\"text-align: right;\">\n",
              "      <th></th>\n",
              "      <th>P1</th>\n",
              "      <th>P2</th>\n",
              "      <th>P3</th>\n",
              "      <th>P4</th>\n",
              "      <th>P5</th>\n",
              "    </tr>\n",
              "  </thead>\n",
              "  <tbody>\n",
              "    <tr>\n",
              "      <th>count</th>\n",
              "      <td>14.0</td>\n",
              "      <td>14.0</td>\n",
              "      <td>14.0</td>\n",
              "      <td>14.0</td>\n",
              "      <td>14.0</td>\n",
              "    </tr>\n",
              "    <tr>\n",
              "      <th>mean</th>\n",
              "      <td>5.6</td>\n",
              "      <td>5.6</td>\n",
              "      <td>5.7</td>\n",
              "      <td>5.8</td>\n",
              "      <td>6.3</td>\n",
              "    </tr>\n",
              "    <tr>\n",
              "      <th>std</th>\n",
              "      <td>2.4</td>\n",
              "      <td>2.6</td>\n",
              "      <td>2.6</td>\n",
              "      <td>1.9</td>\n",
              "      <td>2.2</td>\n",
              "    </tr>\n",
              "    <tr>\n",
              "      <th>min</th>\n",
              "      <td>2.2</td>\n",
              "      <td>2.1</td>\n",
              "      <td>2.1</td>\n",
              "      <td>3.2</td>\n",
              "      <td>2.5</td>\n",
              "    </tr>\n",
              "    <tr>\n",
              "      <th>25%</th>\n",
              "      <td>4.2</td>\n",
              "      <td>4.1</td>\n",
              "      <td>3.3</td>\n",
              "      <td>4.5</td>\n",
              "      <td>5.3</td>\n",
              "    </tr>\n",
              "    <tr>\n",
              "      <th>50%</th>\n",
              "      <td>5.6</td>\n",
              "      <td>5.0</td>\n",
              "      <td>6.4</td>\n",
              "      <td>5.5</td>\n",
              "      <td>6.4</td>\n",
              "    </tr>\n",
              "    <tr>\n",
              "      <th>75%</th>\n",
              "      <td>7.4</td>\n",
              "      <td>7.6</td>\n",
              "      <td>7.7</td>\n",
              "      <td>7.6</td>\n",
              "      <td>7.6</td>\n",
              "    </tr>\n",
              "    <tr>\n",
              "      <th>max</th>\n",
              "      <td>8.9</td>\n",
              "      <td>9.8</td>\n",
              "      <td>9.3</td>\n",
              "      <td>8.4</td>\n",
              "      <td>10.0</td>\n",
              "    </tr>\n",
              "  </tbody>\n",
              "</table>\n",
              "</div>"
            ],
            "text/plain": [
              "         P1    P2    P3    P4    P5\n",
              "count  14.0  14.0  14.0  14.0  14.0\n",
              "mean    5.6   5.6   5.7   5.8   6.3\n",
              "std     2.4   2.6   2.6   1.9   2.2\n",
              "min     2.2   2.1   2.1   3.2   2.5\n",
              "25%     4.2   4.1   3.3   4.5   5.3\n",
              "50%     5.6   5.0   6.4   5.5   6.4\n",
              "75%     7.4   7.6   7.7   7.6   7.6\n",
              "max     8.9   9.8   9.3   8.4  10.0"
            ]
          },
          "metadata": {
            "tags": []
          },
          "execution_count": 281
        }
      ]
    },
    {
      "cell_type": "markdown",
      "metadata": {
        "id": "1xtAKz3EI5yl"
      },
      "source": [
        "adicionando a coluna sexo\n"
      ]
    },
    {
      "cell_type": "code",
      "metadata": {
        "colab": {
          "base_uri": "https://localhost:8080/",
          "height": 483
        },
        "id": "MGwWNo2h41gk",
        "outputId": "fd56433d-79ae-4215-8598-6ee546f0673f"
      },
      "source": [
        "notas['Sexo'] = sexo\n",
        "notas"
      ],
      "execution_count": null,
      "outputs": [
        {
          "output_type": "execute_result",
          "data": {
            "text/html": [
              "<div>\n",
              "<style scoped>\n",
              "    .dataframe tbody tr th:only-of-type {\n",
              "        vertical-align: middle;\n",
              "    }\n",
              "\n",
              "    .dataframe tbody tr th {\n",
              "        vertical-align: top;\n",
              "    }\n",
              "\n",
              "    .dataframe thead th {\n",
              "        text-align: right;\n",
              "    }\n",
              "</style>\n",
              "<table border=\"1\" class=\"dataframe\">\n",
              "  <thead>\n",
              "    <tr style=\"text-align: right;\">\n",
              "      <th></th>\n",
              "      <th>P1</th>\n",
              "      <th>P2</th>\n",
              "      <th>P3</th>\n",
              "      <th>P4</th>\n",
              "      <th>P5</th>\n",
              "      <th>Sexo</th>\n",
              "    </tr>\n",
              "  </thead>\n",
              "  <tbody>\n",
              "    <tr>\n",
              "      <th>Adao</th>\n",
              "      <td>7.2</td>\n",
              "      <td>7.6</td>\n",
              "      <td>6.3</td>\n",
              "      <td>8.3</td>\n",
              "      <td>5.5</td>\n",
              "      <td>M</td>\n",
              "    </tr>\n",
              "    <tr>\n",
              "      <th>Ana</th>\n",
              "      <td>8.8</td>\n",
              "      <td>4.7</td>\n",
              "      <td>2.3</td>\n",
              "      <td>6.2</td>\n",
              "      <td>6.5</td>\n",
              "      <td>F</td>\n",
              "    </tr>\n",
              "    <tr>\n",
              "      <th>Breno</th>\n",
              "      <td>6.7</td>\n",
              "      <td>4.3</td>\n",
              "      <td>2.1</td>\n",
              "      <td>8.4</td>\n",
              "      <td>2.5</td>\n",
              "      <td>M</td>\n",
              "    </tr>\n",
              "    <tr>\n",
              "      <th>Carlos</th>\n",
              "      <td>2.2</td>\n",
              "      <td>9.1</td>\n",
              "      <td>6.7</td>\n",
              "      <td>4.7</td>\n",
              "      <td>4.0</td>\n",
              "      <td>M</td>\n",
              "    </tr>\n",
              "    <tr>\n",
              "      <th>Chun-li</th>\n",
              "      <td>4.5</td>\n",
              "      <td>2.3</td>\n",
              "      <td>2.9</td>\n",
              "      <td>3.2</td>\n",
              "      <td>2.9</td>\n",
              "      <td>F</td>\n",
              "    </tr>\n",
              "    <tr>\n",
              "      <th>Giovana</th>\n",
              "      <td>6.5</td>\n",
              "      <td>5.2</td>\n",
              "      <td>8.1</td>\n",
              "      <td>5.4</td>\n",
              "      <td>5.8</td>\n",
              "      <td>F</td>\n",
              "    </tr>\n",
              "    <tr>\n",
              "      <th>Gustavo</th>\n",
              "      <td>2.4</td>\n",
              "      <td>7.6</td>\n",
              "      <td>8.7</td>\n",
              "      <td>8.3</td>\n",
              "      <td>8.2</td>\n",
              "      <td>M</td>\n",
              "    </tr>\n",
              "    <tr>\n",
              "      <th>Karla</th>\n",
              "      <td>2.3</td>\n",
              "      <td>2.1</td>\n",
              "      <td>9.0</td>\n",
              "      <td>4.1</td>\n",
              "      <td>7.1</td>\n",
              "      <td>F</td>\n",
              "    </tr>\n",
              "    <tr>\n",
              "      <th>Lucia</th>\n",
              "      <td>4.2</td>\n",
              "      <td>4.1</td>\n",
              "      <td>5.1</td>\n",
              "      <td>6.1</td>\n",
              "      <td>10.0</td>\n",
              "      <td>F</td>\n",
              "    </tr>\n",
              "    <tr>\n",
              "      <th>Maria</th>\n",
              "      <td>4.2</td>\n",
              "      <td>2.1</td>\n",
              "      <td>6.6</td>\n",
              "      <td>3.2</td>\n",
              "      <td>5.2</td>\n",
              "      <td>F</td>\n",
              "    </tr>\n",
              "    <tr>\n",
              "      <th>Sandra</th>\n",
              "      <td>4.7</td>\n",
              "      <td>7.3</td>\n",
              "      <td>3.2</td>\n",
              "      <td>5.3</td>\n",
              "      <td>6.2</td>\n",
              "      <td>F</td>\n",
              "    </tr>\n",
              "    <tr>\n",
              "      <th>Talles</th>\n",
              "      <td>8.0</td>\n",
              "      <td>7.5</td>\n",
              "      <td>9.3</td>\n",
              "      <td>5.6</td>\n",
              "      <td>7.5</td>\n",
              "      <td>M</td>\n",
              "    </tr>\n",
              "    <tr>\n",
              "      <th>Tommy</th>\n",
              "      <td>8.9</td>\n",
              "      <td>9.8</td>\n",
              "      <td>6.5</td>\n",
              "      <td>4.4</td>\n",
              "      <td>9.6</td>\n",
              "      <td>M</td>\n",
              "    </tr>\n",
              "    <tr>\n",
              "      <th>Tulio</th>\n",
              "      <td>7.4</td>\n",
              "      <td>4.4</td>\n",
              "      <td>3.6</td>\n",
              "      <td>8.1</td>\n",
              "      <td>7.6</td>\n",
              "      <td>M</td>\n",
              "    </tr>\n",
              "  </tbody>\n",
              "</table>\n",
              "</div>"
            ],
            "text/plain": [
              "          P1   P2   P3   P4    P5 Sexo\n",
              "Adao     7.2  7.6  6.3  8.3   5.5    M\n",
              "Ana      8.8  4.7  2.3  6.2   6.5    F\n",
              "Breno    6.7  4.3  2.1  8.4   2.5    M\n",
              "Carlos   2.2  9.1  6.7  4.7   4.0    M\n",
              "Chun-li  4.5  2.3  2.9  3.2   2.9    F\n",
              "Giovana  6.5  5.2  8.1  5.4   5.8    F\n",
              "Gustavo  2.4  7.6  8.7  8.3   8.2    M\n",
              "Karla    2.3  2.1  9.0  4.1   7.1    F\n",
              "Lucia    4.2  4.1  5.1  6.1  10.0    F\n",
              "Maria    4.2  2.1  6.6  3.2   5.2    F\n",
              "Sandra   4.7  7.3  3.2  5.3   6.2    F\n",
              "Talles   8.0  7.5  9.3  5.6   7.5    M\n",
              "Tommy    8.9  9.8  6.5  4.4   9.6    M\n",
              "Tulio    7.4  4.4  3.6  8.1   7.6    M"
            ]
          },
          "metadata": {
            "tags": []
          },
          "execution_count": 282
        }
      ]
    },
    {
      "cell_type": "code",
      "metadata": {
        "id": "Fs9kGzcwI_oY"
      },
      "source": [
        "filtrando por sexo masculino"
      ],
      "execution_count": null,
      "outputs": []
    },
    {
      "cell_type": "markdown",
      "metadata": {
        "id": "XHMR_a0CI-sY"
      },
      "source": [
        ""
      ]
    },
    {
      "cell_type": "code",
      "metadata": {
        "colab": {
          "base_uri": "https://localhost:8080/",
          "height": 266
        },
        "id": "N8qPJdl996Oh",
        "outputId": "84f5dd3d-dbad-413d-ff33-9a6adb3db022"
      },
      "source": [
        "notas[notas['Sexo']=='M']\n"
      ],
      "execution_count": null,
      "outputs": [
        {
          "output_type": "execute_result",
          "data": {
            "text/html": [
              "<div>\n",
              "<style scoped>\n",
              "    .dataframe tbody tr th:only-of-type {\n",
              "        vertical-align: middle;\n",
              "    }\n",
              "\n",
              "    .dataframe tbody tr th {\n",
              "        vertical-align: top;\n",
              "    }\n",
              "\n",
              "    .dataframe thead th {\n",
              "        text-align: right;\n",
              "    }\n",
              "</style>\n",
              "<table border=\"1\" class=\"dataframe\">\n",
              "  <thead>\n",
              "    <tr style=\"text-align: right;\">\n",
              "      <th></th>\n",
              "      <th>P1</th>\n",
              "      <th>P2</th>\n",
              "      <th>P3</th>\n",
              "      <th>P4</th>\n",
              "      <th>P5</th>\n",
              "      <th>Sexo</th>\n",
              "    </tr>\n",
              "  </thead>\n",
              "  <tbody>\n",
              "    <tr>\n",
              "      <th>Adao</th>\n",
              "      <td>7.2</td>\n",
              "      <td>7.6</td>\n",
              "      <td>6.3</td>\n",
              "      <td>8.3</td>\n",
              "      <td>5.5</td>\n",
              "      <td>M</td>\n",
              "    </tr>\n",
              "    <tr>\n",
              "      <th>Breno</th>\n",
              "      <td>6.7</td>\n",
              "      <td>4.3</td>\n",
              "      <td>2.1</td>\n",
              "      <td>8.4</td>\n",
              "      <td>2.5</td>\n",
              "      <td>M</td>\n",
              "    </tr>\n",
              "    <tr>\n",
              "      <th>Carlos</th>\n",
              "      <td>2.2</td>\n",
              "      <td>9.1</td>\n",
              "      <td>6.7</td>\n",
              "      <td>4.7</td>\n",
              "      <td>4.0</td>\n",
              "      <td>M</td>\n",
              "    </tr>\n",
              "    <tr>\n",
              "      <th>Gustavo</th>\n",
              "      <td>2.4</td>\n",
              "      <td>7.6</td>\n",
              "      <td>8.7</td>\n",
              "      <td>8.3</td>\n",
              "      <td>8.2</td>\n",
              "      <td>M</td>\n",
              "    </tr>\n",
              "    <tr>\n",
              "      <th>Talles</th>\n",
              "      <td>8.0</td>\n",
              "      <td>7.5</td>\n",
              "      <td>9.3</td>\n",
              "      <td>5.6</td>\n",
              "      <td>7.5</td>\n",
              "      <td>M</td>\n",
              "    </tr>\n",
              "    <tr>\n",
              "      <th>Tommy</th>\n",
              "      <td>8.9</td>\n",
              "      <td>9.8</td>\n",
              "      <td>6.5</td>\n",
              "      <td>4.4</td>\n",
              "      <td>9.6</td>\n",
              "      <td>M</td>\n",
              "    </tr>\n",
              "    <tr>\n",
              "      <th>Tulio</th>\n",
              "      <td>7.4</td>\n",
              "      <td>4.4</td>\n",
              "      <td>3.6</td>\n",
              "      <td>8.1</td>\n",
              "      <td>7.6</td>\n",
              "      <td>M</td>\n",
              "    </tr>\n",
              "  </tbody>\n",
              "</table>\n",
              "</div>"
            ],
            "text/plain": [
              "          P1   P2   P3   P4   P5 Sexo\n",
              "Adao     7.2  7.6  6.3  8.3  5.5    M\n",
              "Breno    6.7  4.3  2.1  8.4  2.5    M\n",
              "Carlos   2.2  9.1  6.7  4.7  4.0    M\n",
              "Gustavo  2.4  7.6  8.7  8.3  8.2    M\n",
              "Talles   8.0  7.5  9.3  5.6  7.5    M\n",
              "Tommy    8.9  9.8  6.5  4.4  9.6    M\n",
              "Tulio    7.4  4.4  3.6  8.1  7.6    M"
            ]
          },
          "metadata": {
            "tags": []
          },
          "execution_count": 283
        }
      ]
    },
    {
      "cell_type": "markdown",
      "metadata": {
        "id": "Fvz11k-PJHJ2"
      },
      "source": [
        "contando quantos são do sexo masculino"
      ]
    },
    {
      "cell_type": "code",
      "metadata": {
        "colab": {
          "base_uri": "https://localhost:8080/"
        },
        "id": "pIwZaUQ7-XTO",
        "outputId": "9d86c818-0351-41c2-d2cc-f1e16deb24a1"
      },
      "source": [
        "len(notas[notas['Sexo']=='M'])"
      ],
      "execution_count": null,
      "outputs": [
        {
          "output_type": "execute_result",
          "data": {
            "text/plain": [
              "7"
            ]
          },
          "metadata": {
            "tags": []
          },
          "execution_count": 270
        }
      ]
    },
    {
      "cell_type": "markdown",
      "metadata": {
        "id": "gDur4EraJPdN"
      },
      "source": [
        "filtro de notas maiores que 5 e que são do sexo feminino"
      ]
    },
    {
      "cell_type": "code",
      "metadata": {
        "colab": {
          "base_uri": "https://localhost:8080/",
          "height": 111
        },
        "id": "On7y7CEm_KrE",
        "outputId": "74d32cfa-7a4b-4bab-fd33-83f4ced99fa0"
      },
      "source": [
        "notas[(notas['P1'] >= 5) & (notas['Sexo'] == 'F')]"
      ],
      "execution_count": null,
      "outputs": [
        {
          "output_type": "execute_result",
          "data": {
            "text/html": [
              "<div>\n",
              "<style scoped>\n",
              "    .dataframe tbody tr th:only-of-type {\n",
              "        vertical-align: middle;\n",
              "    }\n",
              "\n",
              "    .dataframe tbody tr th {\n",
              "        vertical-align: top;\n",
              "    }\n",
              "\n",
              "    .dataframe thead th {\n",
              "        text-align: right;\n",
              "    }\n",
              "</style>\n",
              "<table border=\"1\" class=\"dataframe\">\n",
              "  <thead>\n",
              "    <tr style=\"text-align: right;\">\n",
              "      <th></th>\n",
              "      <th>P1</th>\n",
              "      <th>P2</th>\n",
              "      <th>P3</th>\n",
              "      <th>P4</th>\n",
              "      <th>P5</th>\n",
              "      <th>Sexo</th>\n",
              "    </tr>\n",
              "  </thead>\n",
              "  <tbody>\n",
              "    <tr>\n",
              "      <th>Ana</th>\n",
              "      <td>8.8</td>\n",
              "      <td>4.7</td>\n",
              "      <td>2.3</td>\n",
              "      <td>6.2</td>\n",
              "      <td>6.5</td>\n",
              "      <td>F</td>\n",
              "    </tr>\n",
              "    <tr>\n",
              "      <th>Giovana</th>\n",
              "      <td>6.5</td>\n",
              "      <td>5.2</td>\n",
              "      <td>8.1</td>\n",
              "      <td>5.4</td>\n",
              "      <td>5.8</td>\n",
              "      <td>F</td>\n",
              "    </tr>\n",
              "  </tbody>\n",
              "</table>\n",
              "</div>"
            ],
            "text/plain": [
              "          P1   P2   P3   P4   P5 Sexo\n",
              "Ana      8.8  4.7  2.3  6.2  6.5    F\n",
              "Giovana  6.5  5.2  8.1  5.4  5.8    F"
            ]
          },
          "metadata": {
            "tags": []
          },
          "execution_count": 284
        }
      ]
    },
    {
      "cell_type": "markdown",
      "metadata": {
        "id": "k84bgr7vJeOW"
      },
      "source": [
        "calculando a media das provas e colocando uma nova coluna com o valor da media"
      ]
    },
    {
      "cell_type": "code",
      "metadata": {
        "colab": {
          "base_uri": "https://localhost:8080/",
          "height": 483
        },
        "id": "K6MTsSUdvFT3",
        "outputId": "c808846f-9fe2-4b94-946e-4287746c3d5a"
      },
      "source": [
        "notas['MF'] = notas.mean(axis =1 ).round(1)\n",
        "notas"
      ],
      "execution_count": null,
      "outputs": [
        {
          "output_type": "execute_result",
          "data": {
            "text/html": [
              "<div>\n",
              "<style scoped>\n",
              "    .dataframe tbody tr th:only-of-type {\n",
              "        vertical-align: middle;\n",
              "    }\n",
              "\n",
              "    .dataframe tbody tr th {\n",
              "        vertical-align: top;\n",
              "    }\n",
              "\n",
              "    .dataframe thead th {\n",
              "        text-align: right;\n",
              "    }\n",
              "</style>\n",
              "<table border=\"1\" class=\"dataframe\">\n",
              "  <thead>\n",
              "    <tr style=\"text-align: right;\">\n",
              "      <th></th>\n",
              "      <th>P1</th>\n",
              "      <th>P2</th>\n",
              "      <th>P3</th>\n",
              "      <th>P4</th>\n",
              "      <th>P5</th>\n",
              "      <th>Sexo</th>\n",
              "      <th>MF</th>\n",
              "    </tr>\n",
              "  </thead>\n",
              "  <tbody>\n",
              "    <tr>\n",
              "      <th>Adao</th>\n",
              "      <td>7.2</td>\n",
              "      <td>7.6</td>\n",
              "      <td>6.3</td>\n",
              "      <td>8.3</td>\n",
              "      <td>5.5</td>\n",
              "      <td>M</td>\n",
              "      <td>7.0</td>\n",
              "    </tr>\n",
              "    <tr>\n",
              "      <th>Ana</th>\n",
              "      <td>8.8</td>\n",
              "      <td>4.7</td>\n",
              "      <td>2.3</td>\n",
              "      <td>6.2</td>\n",
              "      <td>6.5</td>\n",
              "      <td>F</td>\n",
              "      <td>5.7</td>\n",
              "    </tr>\n",
              "    <tr>\n",
              "      <th>Breno</th>\n",
              "      <td>6.7</td>\n",
              "      <td>4.3</td>\n",
              "      <td>2.1</td>\n",
              "      <td>8.4</td>\n",
              "      <td>2.5</td>\n",
              "      <td>M</td>\n",
              "      <td>4.8</td>\n",
              "    </tr>\n",
              "    <tr>\n",
              "      <th>Carlos</th>\n",
              "      <td>2.2</td>\n",
              "      <td>9.1</td>\n",
              "      <td>6.7</td>\n",
              "      <td>4.7</td>\n",
              "      <td>4.0</td>\n",
              "      <td>M</td>\n",
              "      <td>5.3</td>\n",
              "    </tr>\n",
              "    <tr>\n",
              "      <th>Chun-li</th>\n",
              "      <td>4.5</td>\n",
              "      <td>2.3</td>\n",
              "      <td>2.9</td>\n",
              "      <td>3.2</td>\n",
              "      <td>2.9</td>\n",
              "      <td>F</td>\n",
              "      <td>3.2</td>\n",
              "    </tr>\n",
              "    <tr>\n",
              "      <th>Giovana</th>\n",
              "      <td>6.5</td>\n",
              "      <td>5.2</td>\n",
              "      <td>8.1</td>\n",
              "      <td>5.4</td>\n",
              "      <td>5.8</td>\n",
              "      <td>F</td>\n",
              "      <td>6.2</td>\n",
              "    </tr>\n",
              "    <tr>\n",
              "      <th>Gustavo</th>\n",
              "      <td>2.4</td>\n",
              "      <td>7.6</td>\n",
              "      <td>8.7</td>\n",
              "      <td>8.3</td>\n",
              "      <td>8.2</td>\n",
              "      <td>M</td>\n",
              "      <td>7.0</td>\n",
              "    </tr>\n",
              "    <tr>\n",
              "      <th>Karla</th>\n",
              "      <td>2.3</td>\n",
              "      <td>2.1</td>\n",
              "      <td>9.0</td>\n",
              "      <td>4.1</td>\n",
              "      <td>7.1</td>\n",
              "      <td>F</td>\n",
              "      <td>4.9</td>\n",
              "    </tr>\n",
              "    <tr>\n",
              "      <th>Lucia</th>\n",
              "      <td>4.2</td>\n",
              "      <td>4.1</td>\n",
              "      <td>5.1</td>\n",
              "      <td>6.1</td>\n",
              "      <td>10.0</td>\n",
              "      <td>F</td>\n",
              "      <td>5.9</td>\n",
              "    </tr>\n",
              "    <tr>\n",
              "      <th>Maria</th>\n",
              "      <td>4.2</td>\n",
              "      <td>2.1</td>\n",
              "      <td>6.6</td>\n",
              "      <td>3.2</td>\n",
              "      <td>5.2</td>\n",
              "      <td>F</td>\n",
              "      <td>4.3</td>\n",
              "    </tr>\n",
              "    <tr>\n",
              "      <th>Sandra</th>\n",
              "      <td>4.7</td>\n",
              "      <td>7.3</td>\n",
              "      <td>3.2</td>\n",
              "      <td>5.3</td>\n",
              "      <td>6.2</td>\n",
              "      <td>F</td>\n",
              "      <td>5.3</td>\n",
              "    </tr>\n",
              "    <tr>\n",
              "      <th>Talles</th>\n",
              "      <td>8.0</td>\n",
              "      <td>7.5</td>\n",
              "      <td>9.3</td>\n",
              "      <td>5.6</td>\n",
              "      <td>7.5</td>\n",
              "      <td>M</td>\n",
              "      <td>7.6</td>\n",
              "    </tr>\n",
              "    <tr>\n",
              "      <th>Tommy</th>\n",
              "      <td>8.9</td>\n",
              "      <td>9.8</td>\n",
              "      <td>6.5</td>\n",
              "      <td>4.4</td>\n",
              "      <td>9.6</td>\n",
              "      <td>M</td>\n",
              "      <td>7.8</td>\n",
              "    </tr>\n",
              "    <tr>\n",
              "      <th>Tulio</th>\n",
              "      <td>7.4</td>\n",
              "      <td>4.4</td>\n",
              "      <td>3.6</td>\n",
              "      <td>8.1</td>\n",
              "      <td>7.6</td>\n",
              "      <td>M</td>\n",
              "      <td>6.2</td>\n",
              "    </tr>\n",
              "  </tbody>\n",
              "</table>\n",
              "</div>"
            ],
            "text/plain": [
              "          P1   P2   P3   P4    P5 Sexo   MF\n",
              "Adao     7.2  7.6  6.3  8.3   5.5    M  7.0\n",
              "Ana      8.8  4.7  2.3  6.2   6.5    F  5.7\n",
              "Breno    6.7  4.3  2.1  8.4   2.5    M  4.8\n",
              "Carlos   2.2  9.1  6.7  4.7   4.0    M  5.3\n",
              "Chun-li  4.5  2.3  2.9  3.2   2.9    F  3.2\n",
              "Giovana  6.5  5.2  8.1  5.4   5.8    F  6.2\n",
              "Gustavo  2.4  7.6  8.7  8.3   8.2    M  7.0\n",
              "Karla    2.3  2.1  9.0  4.1   7.1    F  4.9\n",
              "Lucia    4.2  4.1  5.1  6.1  10.0    F  5.9\n",
              "Maria    4.2  2.1  6.6  3.2   5.2    F  4.3\n",
              "Sandra   4.7  7.3  3.2  5.3   6.2    F  5.3\n",
              "Talles   8.0  7.5  9.3  5.6   7.5    M  7.6\n",
              "Tommy    8.9  9.8  6.5  4.4   9.6    M  7.8\n",
              "Tulio    7.4  4.4  3.6  8.1   7.6    M  6.2"
            ]
          },
          "metadata": {
            "tags": []
          },
          "execution_count": 285
        }
      ]
    },
    {
      "cell_type": "markdown",
      "metadata": {
        "id": "C58bNcOzJpjU"
      },
      "source": [
        "função usada para retorna se o aluno foi aprovado ou reprovado de acordo com a media final "
      ]
    },
    {
      "cell_type": "code",
      "metadata": {
        "id": "1FDVOGvswPWm"
      },
      "source": [
        "def auxiliar(x):\n",
        "  if x>=5:\n",
        "    return 'Aprovado'\n",
        "  else:\n",
        "    return 'Reprovado'"
      ],
      "execution_count": null,
      "outputs": []
    },
    {
      "cell_type": "code",
      "metadata": {
        "colab": {
          "base_uri": "https://localhost:8080/",
          "height": 483
        },
        "id": "AWI4BuCVxt_s",
        "outputId": "e3c5e247-59da-45f7-b08d-9065127f902f"
      },
      "source": [
        "notas['Situação'] = notas['MF'].apply(auxiliar)\n",
        "notas"
      ],
      "execution_count": null,
      "outputs": [
        {
          "output_type": "execute_result",
          "data": {
            "text/html": [
              "<div>\n",
              "<style scoped>\n",
              "    .dataframe tbody tr th:only-of-type {\n",
              "        vertical-align: middle;\n",
              "    }\n",
              "\n",
              "    .dataframe tbody tr th {\n",
              "        vertical-align: top;\n",
              "    }\n",
              "\n",
              "    .dataframe thead th {\n",
              "        text-align: right;\n",
              "    }\n",
              "</style>\n",
              "<table border=\"1\" class=\"dataframe\">\n",
              "  <thead>\n",
              "    <tr style=\"text-align: right;\">\n",
              "      <th></th>\n",
              "      <th>P1</th>\n",
              "      <th>P2</th>\n",
              "      <th>P3</th>\n",
              "      <th>P4</th>\n",
              "      <th>P5</th>\n",
              "      <th>Sexo</th>\n",
              "      <th>MF</th>\n",
              "      <th>Situação</th>\n",
              "    </tr>\n",
              "  </thead>\n",
              "  <tbody>\n",
              "    <tr>\n",
              "      <th>Adao</th>\n",
              "      <td>7.2</td>\n",
              "      <td>7.6</td>\n",
              "      <td>6.3</td>\n",
              "      <td>8.3</td>\n",
              "      <td>5.5</td>\n",
              "      <td>M</td>\n",
              "      <td>7.0</td>\n",
              "      <td>Aprovado</td>\n",
              "    </tr>\n",
              "    <tr>\n",
              "      <th>Ana</th>\n",
              "      <td>8.8</td>\n",
              "      <td>4.7</td>\n",
              "      <td>2.3</td>\n",
              "      <td>6.2</td>\n",
              "      <td>6.5</td>\n",
              "      <td>F</td>\n",
              "      <td>5.7</td>\n",
              "      <td>Aprovado</td>\n",
              "    </tr>\n",
              "    <tr>\n",
              "      <th>Breno</th>\n",
              "      <td>6.7</td>\n",
              "      <td>4.3</td>\n",
              "      <td>2.1</td>\n",
              "      <td>8.4</td>\n",
              "      <td>2.5</td>\n",
              "      <td>M</td>\n",
              "      <td>4.8</td>\n",
              "      <td>Reprovado</td>\n",
              "    </tr>\n",
              "    <tr>\n",
              "      <th>Carlos</th>\n",
              "      <td>2.2</td>\n",
              "      <td>9.1</td>\n",
              "      <td>6.7</td>\n",
              "      <td>4.7</td>\n",
              "      <td>4.0</td>\n",
              "      <td>M</td>\n",
              "      <td>5.3</td>\n",
              "      <td>Aprovado</td>\n",
              "    </tr>\n",
              "    <tr>\n",
              "      <th>Chun-li</th>\n",
              "      <td>4.5</td>\n",
              "      <td>2.3</td>\n",
              "      <td>2.9</td>\n",
              "      <td>3.2</td>\n",
              "      <td>2.9</td>\n",
              "      <td>F</td>\n",
              "      <td>3.2</td>\n",
              "      <td>Reprovado</td>\n",
              "    </tr>\n",
              "    <tr>\n",
              "      <th>Giovana</th>\n",
              "      <td>6.5</td>\n",
              "      <td>5.2</td>\n",
              "      <td>8.1</td>\n",
              "      <td>5.4</td>\n",
              "      <td>5.8</td>\n",
              "      <td>F</td>\n",
              "      <td>6.2</td>\n",
              "      <td>Aprovado</td>\n",
              "    </tr>\n",
              "    <tr>\n",
              "      <th>Gustavo</th>\n",
              "      <td>2.4</td>\n",
              "      <td>7.6</td>\n",
              "      <td>8.7</td>\n",
              "      <td>8.3</td>\n",
              "      <td>8.2</td>\n",
              "      <td>M</td>\n",
              "      <td>7.0</td>\n",
              "      <td>Aprovado</td>\n",
              "    </tr>\n",
              "    <tr>\n",
              "      <th>Karla</th>\n",
              "      <td>2.3</td>\n",
              "      <td>2.1</td>\n",
              "      <td>9.0</td>\n",
              "      <td>4.1</td>\n",
              "      <td>7.1</td>\n",
              "      <td>F</td>\n",
              "      <td>4.9</td>\n",
              "      <td>Reprovado</td>\n",
              "    </tr>\n",
              "    <tr>\n",
              "      <th>Lucia</th>\n",
              "      <td>4.2</td>\n",
              "      <td>4.1</td>\n",
              "      <td>5.1</td>\n",
              "      <td>6.1</td>\n",
              "      <td>10.0</td>\n",
              "      <td>F</td>\n",
              "      <td>5.9</td>\n",
              "      <td>Aprovado</td>\n",
              "    </tr>\n",
              "    <tr>\n",
              "      <th>Maria</th>\n",
              "      <td>4.2</td>\n",
              "      <td>2.1</td>\n",
              "      <td>6.6</td>\n",
              "      <td>3.2</td>\n",
              "      <td>5.2</td>\n",
              "      <td>F</td>\n",
              "      <td>4.3</td>\n",
              "      <td>Reprovado</td>\n",
              "    </tr>\n",
              "    <tr>\n",
              "      <th>Sandra</th>\n",
              "      <td>4.7</td>\n",
              "      <td>7.3</td>\n",
              "      <td>3.2</td>\n",
              "      <td>5.3</td>\n",
              "      <td>6.2</td>\n",
              "      <td>F</td>\n",
              "      <td>5.3</td>\n",
              "      <td>Aprovado</td>\n",
              "    </tr>\n",
              "    <tr>\n",
              "      <th>Talles</th>\n",
              "      <td>8.0</td>\n",
              "      <td>7.5</td>\n",
              "      <td>9.3</td>\n",
              "      <td>5.6</td>\n",
              "      <td>7.5</td>\n",
              "      <td>M</td>\n",
              "      <td>7.6</td>\n",
              "      <td>Aprovado</td>\n",
              "    </tr>\n",
              "    <tr>\n",
              "      <th>Tommy</th>\n",
              "      <td>8.9</td>\n",
              "      <td>9.8</td>\n",
              "      <td>6.5</td>\n",
              "      <td>4.4</td>\n",
              "      <td>9.6</td>\n",
              "      <td>M</td>\n",
              "      <td>7.8</td>\n",
              "      <td>Aprovado</td>\n",
              "    </tr>\n",
              "    <tr>\n",
              "      <th>Tulio</th>\n",
              "      <td>7.4</td>\n",
              "      <td>4.4</td>\n",
              "      <td>3.6</td>\n",
              "      <td>8.1</td>\n",
              "      <td>7.6</td>\n",
              "      <td>M</td>\n",
              "      <td>6.2</td>\n",
              "      <td>Aprovado</td>\n",
              "    </tr>\n",
              "  </tbody>\n",
              "</table>\n",
              "</div>"
            ],
            "text/plain": [
              "          P1   P2   P3   P4    P5 Sexo   MF   Situação\n",
              "Adao     7.2  7.6  6.3  8.3   5.5    M  7.0   Aprovado\n",
              "Ana      8.8  4.7  2.3  6.2   6.5    F  5.7   Aprovado\n",
              "Breno    6.7  4.3  2.1  8.4   2.5    M  4.8  Reprovado\n",
              "Carlos   2.2  9.1  6.7  4.7   4.0    M  5.3   Aprovado\n",
              "Chun-li  4.5  2.3  2.9  3.2   2.9    F  3.2  Reprovado\n",
              "Giovana  6.5  5.2  8.1  5.4   5.8    F  6.2   Aprovado\n",
              "Gustavo  2.4  7.6  8.7  8.3   8.2    M  7.0   Aprovado\n",
              "Karla    2.3  2.1  9.0  4.1   7.1    F  4.9  Reprovado\n",
              "Lucia    4.2  4.1  5.1  6.1  10.0    F  5.9   Aprovado\n",
              "Maria    4.2  2.1  6.6  3.2   5.2    F  4.3  Reprovado\n",
              "Sandra   4.7  7.3  3.2  5.3   6.2    F  5.3   Aprovado\n",
              "Talles   8.0  7.5  9.3  5.6   7.5    M  7.6   Aprovado\n",
              "Tommy    8.9  9.8  6.5  4.4   9.6    M  7.8   Aprovado\n",
              "Tulio    7.4  4.4  3.6  8.1   7.6    M  6.2   Aprovado"
            ]
          },
          "metadata": {
            "tags": []
          },
          "execution_count": 287
        }
      ]
    },
    {
      "cell_type": "markdown",
      "metadata": {
        "id": "rCX4Zk7CJ8Gj"
      },
      "source": [
        "ordena e agrupa por ordem da nota final e coloca em ordem crescente"
      ]
    },
    {
      "cell_type": "code",
      "metadata": {
        "colab": {
          "base_uri": "https://localhost:8080/",
          "height": 483
        },
        "id": "uWyAmzhIyzq1",
        "outputId": "f112f353-0fbe-42fb-88a7-a33b03830cdc"
      },
      "source": [
        "notas.sort_values(by ='MF', ascending= True)"
      ],
      "execution_count": null,
      "outputs": [
        {
          "output_type": "execute_result",
          "data": {
            "text/html": [
              "<div>\n",
              "<style scoped>\n",
              "    .dataframe tbody tr th:only-of-type {\n",
              "        vertical-align: middle;\n",
              "    }\n",
              "\n",
              "    .dataframe tbody tr th {\n",
              "        vertical-align: top;\n",
              "    }\n",
              "\n",
              "    .dataframe thead th {\n",
              "        text-align: right;\n",
              "    }\n",
              "</style>\n",
              "<table border=\"1\" class=\"dataframe\">\n",
              "  <thead>\n",
              "    <tr style=\"text-align: right;\">\n",
              "      <th></th>\n",
              "      <th>P1</th>\n",
              "      <th>P2</th>\n",
              "      <th>P3</th>\n",
              "      <th>P4</th>\n",
              "      <th>P5</th>\n",
              "      <th>Sexo</th>\n",
              "      <th>MF</th>\n",
              "      <th>Situação</th>\n",
              "    </tr>\n",
              "  </thead>\n",
              "  <tbody>\n",
              "    <tr>\n",
              "      <th>Chun-li</th>\n",
              "      <td>4.5</td>\n",
              "      <td>2.3</td>\n",
              "      <td>2.9</td>\n",
              "      <td>3.2</td>\n",
              "      <td>2.9</td>\n",
              "      <td>F</td>\n",
              "      <td>3.2</td>\n",
              "      <td>Reprovado</td>\n",
              "    </tr>\n",
              "    <tr>\n",
              "      <th>Maria</th>\n",
              "      <td>4.2</td>\n",
              "      <td>2.1</td>\n",
              "      <td>6.6</td>\n",
              "      <td>3.2</td>\n",
              "      <td>5.2</td>\n",
              "      <td>F</td>\n",
              "      <td>4.3</td>\n",
              "      <td>Reprovado</td>\n",
              "    </tr>\n",
              "    <tr>\n",
              "      <th>Breno</th>\n",
              "      <td>6.7</td>\n",
              "      <td>4.3</td>\n",
              "      <td>2.1</td>\n",
              "      <td>8.4</td>\n",
              "      <td>2.5</td>\n",
              "      <td>M</td>\n",
              "      <td>4.8</td>\n",
              "      <td>Reprovado</td>\n",
              "    </tr>\n",
              "    <tr>\n",
              "      <th>Karla</th>\n",
              "      <td>2.3</td>\n",
              "      <td>2.1</td>\n",
              "      <td>9.0</td>\n",
              "      <td>4.1</td>\n",
              "      <td>7.1</td>\n",
              "      <td>F</td>\n",
              "      <td>4.9</td>\n",
              "      <td>Reprovado</td>\n",
              "    </tr>\n",
              "    <tr>\n",
              "      <th>Carlos</th>\n",
              "      <td>2.2</td>\n",
              "      <td>9.1</td>\n",
              "      <td>6.7</td>\n",
              "      <td>4.7</td>\n",
              "      <td>4.0</td>\n",
              "      <td>M</td>\n",
              "      <td>5.3</td>\n",
              "      <td>Aprovado</td>\n",
              "    </tr>\n",
              "    <tr>\n",
              "      <th>Sandra</th>\n",
              "      <td>4.7</td>\n",
              "      <td>7.3</td>\n",
              "      <td>3.2</td>\n",
              "      <td>5.3</td>\n",
              "      <td>6.2</td>\n",
              "      <td>F</td>\n",
              "      <td>5.3</td>\n",
              "      <td>Aprovado</td>\n",
              "    </tr>\n",
              "    <tr>\n",
              "      <th>Ana</th>\n",
              "      <td>8.8</td>\n",
              "      <td>4.7</td>\n",
              "      <td>2.3</td>\n",
              "      <td>6.2</td>\n",
              "      <td>6.5</td>\n",
              "      <td>F</td>\n",
              "      <td>5.7</td>\n",
              "      <td>Aprovado</td>\n",
              "    </tr>\n",
              "    <tr>\n",
              "      <th>Lucia</th>\n",
              "      <td>4.2</td>\n",
              "      <td>4.1</td>\n",
              "      <td>5.1</td>\n",
              "      <td>6.1</td>\n",
              "      <td>10.0</td>\n",
              "      <td>F</td>\n",
              "      <td>5.9</td>\n",
              "      <td>Aprovado</td>\n",
              "    </tr>\n",
              "    <tr>\n",
              "      <th>Giovana</th>\n",
              "      <td>6.5</td>\n",
              "      <td>5.2</td>\n",
              "      <td>8.1</td>\n",
              "      <td>5.4</td>\n",
              "      <td>5.8</td>\n",
              "      <td>F</td>\n",
              "      <td>6.2</td>\n",
              "      <td>Aprovado</td>\n",
              "    </tr>\n",
              "    <tr>\n",
              "      <th>Tulio</th>\n",
              "      <td>7.4</td>\n",
              "      <td>4.4</td>\n",
              "      <td>3.6</td>\n",
              "      <td>8.1</td>\n",
              "      <td>7.6</td>\n",
              "      <td>M</td>\n",
              "      <td>6.2</td>\n",
              "      <td>Aprovado</td>\n",
              "    </tr>\n",
              "    <tr>\n",
              "      <th>Adao</th>\n",
              "      <td>7.2</td>\n",
              "      <td>7.6</td>\n",
              "      <td>6.3</td>\n",
              "      <td>8.3</td>\n",
              "      <td>5.5</td>\n",
              "      <td>M</td>\n",
              "      <td>7.0</td>\n",
              "      <td>Aprovado</td>\n",
              "    </tr>\n",
              "    <tr>\n",
              "      <th>Gustavo</th>\n",
              "      <td>2.4</td>\n",
              "      <td>7.6</td>\n",
              "      <td>8.7</td>\n",
              "      <td>8.3</td>\n",
              "      <td>8.2</td>\n",
              "      <td>M</td>\n",
              "      <td>7.0</td>\n",
              "      <td>Aprovado</td>\n",
              "    </tr>\n",
              "    <tr>\n",
              "      <th>Talles</th>\n",
              "      <td>8.0</td>\n",
              "      <td>7.5</td>\n",
              "      <td>9.3</td>\n",
              "      <td>5.6</td>\n",
              "      <td>7.5</td>\n",
              "      <td>M</td>\n",
              "      <td>7.6</td>\n",
              "      <td>Aprovado</td>\n",
              "    </tr>\n",
              "    <tr>\n",
              "      <th>Tommy</th>\n",
              "      <td>8.9</td>\n",
              "      <td>9.8</td>\n",
              "      <td>6.5</td>\n",
              "      <td>4.4</td>\n",
              "      <td>9.6</td>\n",
              "      <td>M</td>\n",
              "      <td>7.8</td>\n",
              "      <td>Aprovado</td>\n",
              "    </tr>\n",
              "  </tbody>\n",
              "</table>\n",
              "</div>"
            ],
            "text/plain": [
              "          P1   P2   P3   P4    P5 Sexo   MF   Situação\n",
              "Chun-li  4.5  2.3  2.9  3.2   2.9    F  3.2  Reprovado\n",
              "Maria    4.2  2.1  6.6  3.2   5.2    F  4.3  Reprovado\n",
              "Breno    6.7  4.3  2.1  8.4   2.5    M  4.8  Reprovado\n",
              "Karla    2.3  2.1  9.0  4.1   7.1    F  4.9  Reprovado\n",
              "Carlos   2.2  9.1  6.7  4.7   4.0    M  5.3   Aprovado\n",
              "Sandra   4.7  7.3  3.2  5.3   6.2    F  5.3   Aprovado\n",
              "Ana      8.8  4.7  2.3  6.2   6.5    F  5.7   Aprovado\n",
              "Lucia    4.2  4.1  5.1  6.1  10.0    F  5.9   Aprovado\n",
              "Giovana  6.5  5.2  8.1  5.4   5.8    F  6.2   Aprovado\n",
              "Tulio    7.4  4.4  3.6  8.1   7.6    M  6.2   Aprovado\n",
              "Adao     7.2  7.6  6.3  8.3   5.5    M  7.0   Aprovado\n",
              "Gustavo  2.4  7.6  8.7  8.3   8.2    M  7.0   Aprovado\n",
              "Talles   8.0  7.5  9.3  5.6   7.5    M  7.6   Aprovado\n",
              "Tommy    8.9  9.8  6.5  4.4   9.6    M  7.8   Aprovado"
            ]
          },
          "metadata": {
            "tags": []
          },
          "execution_count": 288
        }
      ]
    },
    {
      "cell_type": "markdown",
      "metadata": {
        "id": "2J6pW39wKGz7"
      },
      "source": [
        "filtro por nome"
      ]
    },
    {
      "cell_type": "code",
      "metadata": {
        "colab": {
          "base_uri": "https://localhost:8080/",
          "height": 80
        },
        "id": "rrFiyo-DFx_E",
        "outputId": "b85d676f-bce9-4d18-f677-c1c0d79bf2f9"
      },
      "source": [
        "notas.loc[['Giovana']]"
      ],
      "execution_count": null,
      "outputs": [
        {
          "output_type": "execute_result",
          "data": {
            "text/html": [
              "<div>\n",
              "<style scoped>\n",
              "    .dataframe tbody tr th:only-of-type {\n",
              "        vertical-align: middle;\n",
              "    }\n",
              "\n",
              "    .dataframe tbody tr th {\n",
              "        vertical-align: top;\n",
              "    }\n",
              "\n",
              "    .dataframe thead th {\n",
              "        text-align: right;\n",
              "    }\n",
              "</style>\n",
              "<table border=\"1\" class=\"dataframe\">\n",
              "  <thead>\n",
              "    <tr style=\"text-align: right;\">\n",
              "      <th></th>\n",
              "      <th>P1</th>\n",
              "      <th>P2</th>\n",
              "      <th>P3</th>\n",
              "      <th>P4</th>\n",
              "      <th>P5</th>\n",
              "      <th>Sexo</th>\n",
              "      <th>MF</th>\n",
              "      <th>Situação</th>\n",
              "    </tr>\n",
              "  </thead>\n",
              "  <tbody>\n",
              "    <tr>\n",
              "      <th>Giovana</th>\n",
              "      <td>6.5</td>\n",
              "      <td>5.2</td>\n",
              "      <td>8.1</td>\n",
              "      <td>5.4</td>\n",
              "      <td>5.8</td>\n",
              "      <td>F</td>\n",
              "      <td>6.2</td>\n",
              "      <td>Aprovado</td>\n",
              "    </tr>\n",
              "  </tbody>\n",
              "</table>\n",
              "</div>"
            ],
            "text/plain": [
              "          P1   P2   P3   P4   P5 Sexo   MF  Situação\n",
              "Giovana  6.5  5.2  8.1  5.4  5.8    F  6.2  Aprovado"
            ]
          },
          "metadata": {
            "tags": []
          },
          "execution_count": 336
        }
      ]
    },
    {
      "cell_type": "markdown",
      "metadata": {
        "id": "J-yCNs5wKNB8"
      },
      "source": [
        "fazendo um agrupamento por sexo e clculando a media"
      ]
    },
    {
      "cell_type": "code",
      "metadata": {
        "colab": {
          "base_uri": "https://localhost:8080/"
        },
        "id": "xdk_wZ1-00a9",
        "outputId": "feeed392-1cc1-45d7-8adc-c27c05f5109d"
      },
      "source": [
        "notas['MF'].groupby(notas['Sexo']).mean().round(1)"
      ],
      "execution_count": null,
      "outputs": [
        {
          "output_type": "execute_result",
          "data": {
            "text/plain": [
              "Sexo\n",
              "F    5.1\n",
              "M    6.5\n",
              "Name: MF, dtype: float64"
            ]
          },
          "metadata": {
            "tags": []
          },
          "execution_count": 289
        }
      ]
    },
    {
      "cell_type": "markdown",
      "metadata": {
        "id": "7ero8lN4KUH5"
      },
      "source": [
        "calculando a media das provas por sexo "
      ]
    },
    {
      "cell_type": "code",
      "metadata": {
        "colab": {
          "base_uri": "https://localhost:8080/",
          "height": 142
        },
        "id": "U7xqbZVV-b8I",
        "outputId": "2e65126a-a401-4e5b-d01b-1ca865b7722c"
      },
      "source": [
        "notas.groupby(notas['Sexo']).mean().round(1)"
      ],
      "execution_count": null,
      "outputs": [
        {
          "output_type": "execute_result",
          "data": {
            "text/html": [
              "<div>\n",
              "<style scoped>\n",
              "    .dataframe tbody tr th:only-of-type {\n",
              "        vertical-align: middle;\n",
              "    }\n",
              "\n",
              "    .dataframe tbody tr th {\n",
              "        vertical-align: top;\n",
              "    }\n",
              "\n",
              "    .dataframe thead th {\n",
              "        text-align: right;\n",
              "    }\n",
              "</style>\n",
              "<table border=\"1\" class=\"dataframe\">\n",
              "  <thead>\n",
              "    <tr style=\"text-align: right;\">\n",
              "      <th></th>\n",
              "      <th>P1</th>\n",
              "      <th>P2</th>\n",
              "      <th>P3</th>\n",
              "      <th>P4</th>\n",
              "      <th>P5</th>\n",
              "      <th>MF</th>\n",
              "    </tr>\n",
              "    <tr>\n",
              "      <th>Sexo</th>\n",
              "      <th></th>\n",
              "      <th></th>\n",
              "      <th></th>\n",
              "      <th></th>\n",
              "      <th></th>\n",
              "      <th></th>\n",
              "    </tr>\n",
              "  </thead>\n",
              "  <tbody>\n",
              "    <tr>\n",
              "      <th>F</th>\n",
              "      <td>5.0</td>\n",
              "      <td>4.0</td>\n",
              "      <td>5.3</td>\n",
              "      <td>4.8</td>\n",
              "      <td>6.2</td>\n",
              "      <td>5.1</td>\n",
              "    </tr>\n",
              "    <tr>\n",
              "      <th>M</th>\n",
              "      <td>6.1</td>\n",
              "      <td>7.2</td>\n",
              "      <td>6.2</td>\n",
              "      <td>6.8</td>\n",
              "      <td>6.4</td>\n",
              "      <td>6.5</td>\n",
              "    </tr>\n",
              "  </tbody>\n",
              "</table>\n",
              "</div>"
            ],
            "text/plain": [
              "       P1   P2   P3   P4   P5   MF\n",
              "Sexo                              \n",
              "F     5.0  4.0  5.3  4.8  6.2  5.1\n",
              "M     6.1  7.2  6.2  6.8  6.4  6.5"
            ]
          },
          "metadata": {
            "tags": []
          },
          "execution_count": 290
        }
      ]
    },
    {
      "cell_type": "code",
      "metadata": {
        "colab": {
          "base_uri": "https://localhost:8080/",
          "height": 142
        },
        "id": "Pj_HkvGM-zxh",
        "outputId": "3aef0b81-a207-4cab-c850-90d8b3120259"
      },
      "source": [
        "notas.groupby(notas['Situação']).max().round(1)"
      ],
      "execution_count": null,
      "outputs": [
        {
          "output_type": "execute_result",
          "data": {
            "text/html": [
              "<div>\n",
              "<style scoped>\n",
              "    .dataframe tbody tr th:only-of-type {\n",
              "        vertical-align: middle;\n",
              "    }\n",
              "\n",
              "    .dataframe tbody tr th {\n",
              "        vertical-align: top;\n",
              "    }\n",
              "\n",
              "    .dataframe thead th {\n",
              "        text-align: right;\n",
              "    }\n",
              "</style>\n",
              "<table border=\"1\" class=\"dataframe\">\n",
              "  <thead>\n",
              "    <tr style=\"text-align: right;\">\n",
              "      <th></th>\n",
              "      <th>P1</th>\n",
              "      <th>P2</th>\n",
              "      <th>P3</th>\n",
              "      <th>P4</th>\n",
              "      <th>P5</th>\n",
              "      <th>Sexo</th>\n",
              "      <th>MF</th>\n",
              "    </tr>\n",
              "    <tr>\n",
              "      <th>Situação</th>\n",
              "      <th></th>\n",
              "      <th></th>\n",
              "      <th></th>\n",
              "      <th></th>\n",
              "      <th></th>\n",
              "      <th></th>\n",
              "      <th></th>\n",
              "    </tr>\n",
              "  </thead>\n",
              "  <tbody>\n",
              "    <tr>\n",
              "      <th>Aprovado</th>\n",
              "      <td>8.9</td>\n",
              "      <td>9.8</td>\n",
              "      <td>9.3</td>\n",
              "      <td>8.3</td>\n",
              "      <td>10.0</td>\n",
              "      <td>M</td>\n",
              "      <td>7.8</td>\n",
              "    </tr>\n",
              "    <tr>\n",
              "      <th>Reprovado</th>\n",
              "      <td>6.7</td>\n",
              "      <td>4.3</td>\n",
              "      <td>9.0</td>\n",
              "      <td>8.4</td>\n",
              "      <td>7.1</td>\n",
              "      <td>M</td>\n",
              "      <td>4.9</td>\n",
              "    </tr>\n",
              "  </tbody>\n",
              "</table>\n",
              "</div>"
            ],
            "text/plain": [
              "            P1   P2   P3   P4    P5 Sexo   MF\n",
              "Situação                                     \n",
              "Aprovado   8.9  9.8  9.3  8.3  10.0    M  7.8\n",
              "Reprovado  6.7  4.3  9.0  8.4   7.1    M  4.9"
            ]
          },
          "metadata": {
            "tags": []
          },
          "execution_count": 292
        }
      ]
    },
    {
      "cell_type": "markdown",
      "metadata": {
        "id": "zNHpHuinKd6L"
      },
      "source": [
        "grafico mostra a media das provas de acordo com a situação aprovado e reprovado"
      ]
    },
    {
      "cell_type": "code",
      "metadata": {
        "colab": {
          "base_uri": "https://localhost:8080/",
          "height": 322
        },
        "id": "i4QGB4xLALca",
        "outputId": "32bb6109-bbfc-4eb4-edbd-8f50d1b13a71"
      },
      "source": [
        "notas.groupby(notas['Situação']).mean().plot(kind ='bar');"
      ],
      "execution_count": null,
      "outputs": [
        {
          "output_type": "display_data",
          "data": {
            "image/png": "[encoded data removed]",
            "text/plain": [
              "<Figure size 432x288 with 1 Axes>"
            ]
          },
          "metadata": {
            "tags": [],
            "needs_background": "light"
          }
        }
      ]
    },
    {
      "cell_type": "markdown",
      "metadata": {
        "id": "h5c49IPfKuO5"
      },
      "source": [
        "grafico mostra a nota final de acordo com sexo\n"
      ]
    },
    {
      "cell_type": "code",
      "metadata": {
        "colab": {
          "base_uri": "https://localhost:8080/",
          "height": 265
        },
        "id": "3lSW6zUVA-22",
        "outputId": "98a508cc-6422-4db4-b0e2-a414566cca37"
      },
      "source": [
        "notas['MF'].groupby(notas['Sexo']).mean().plot(kind ='barh');"
      ],
      "execution_count": null,
      "outputs": [
        {
          "output_type": "display_data",
          "data": {
            "image/png": "[encoded data removed]",
            "text/plain": [
              "<Figure size 432x288 with 1 Axes>"
            ]
          },
          "metadata": {
            "tags": [],
            "needs_background": "light"
          }
        }
      ]
    },
    {
      "cell_type": "code",
      "metadata": {
        "colab": {
          "base_uri": "https://localhost:8080/",
          "height": 268
        },
        "id": "NhVez0ABB_fG",
        "outputId": "30d8e2b3-64c3-489b-e986-9833a6418cda"
      },
      "source": [
        "notas['MF'].T.plot();\n"
      ],
      "execution_count": null,
      "outputs": [
        {
          "output_type": "display_data",
          "data": {
            "image/png": "[encoded data removed]",
            "text/plain": [
              "<Figure size 432x288 with 1 Axes>"
            ]
          },
          "metadata": {
            "tags": [],
            "needs_background": "light"
          }
        }
      ]
    }
  ]
}