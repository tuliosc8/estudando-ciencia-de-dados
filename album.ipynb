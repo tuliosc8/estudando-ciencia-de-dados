{
  "nbformat": 4,
  "nbformat_minor": 0,
  "metadata": {
    "colab": {
      "name": "album.ipynb",
      "provenance": [],
      "collapsed_sections": [],
      "authorship_tag": "ABX9TyOvaIyefejUgax3r7AslkYN",
      "include_colab_link": true
    },
    "kernelspec": {
      "name": "python3",
      "display_name": "Python 3"
    },
    "language_info": {
      "name": "python"
    }
  },
  "cells": [
    {
      "cell_type": "markdown",
      "metadata": {
        "id": "view-in-github",
        "colab_type": "text"
      },
      "source": [
        "<a href=\"https://colab.research.google.com/github/tuliosc8/estudando-ciencia-de-dados/blob/main/album.ipynb\" target=\"_parent\"><img src=\"https://colab.research.google.com/assets/colab-badge.svg\" alt=\"Open In Colab\"/></a>"
      ]
    },
    {
      "cell_type": "markdown",
      "metadata": {
        "id": "QXcHJ_zgyBVs"
      },
      "source": [
        "Custo para completar um álbum de figurinhas\n",
        "Essa programação foi realizada com base na aula Python para Iniciantes - Do Zero ao Primeiro Projeto! de Data Science do professor Ricardo Rocha da FLAI.\n",
        "\n",
        "Com o objetivo de introduzir o Python e seus comando básicos, foi proposto como exercício, avaliar quanto seria necessario gastar para preencher um álbum de figurinhas."
      ]
    },
    {
      "cell_type": "markdown",
      "metadata": {
        "id": "FflS-49czDKa"
      },
      "source": [
        "INTRODUÇÃO\n",
        "Essa programação foi realizada com base na aula Python para Iniciantes - Do Zero ao Primeiro Projeto! de Data Science do professor Ricardo Rocha da FLAI.\n",
        "\n",
        "Com o objetivo de introduzir o Python e seus comando básicos, foi proposto como exercício, avaliar quanto seria necessario gastar para preencher um álbum de figurinhas.\n",
        "\n",
        "PROJETO: Álbum de figurinhas\n",
        "Total de figurinhas: 212.\n",
        "Preço do livro: R\\$ 10,00.\n",
        "Envelope com 4 figurinhas: R\\$ 4,00.\n",
        "SUPOSIÇÕES¶\n",
        "Todas as figurinhas tem igual probabilidade de serem sorteradas.\n",
        "Um pacotinho é comprado por vez até que se complete o álbum.\n",
        "ALGORITMO\n",
        "Definição dos parâmetros do álbum a ser adiquirido;\n",
        "Comprar o álbum (zerado);\n",
        "Comprar um pacotinho de figurinhas (4 figurinhas cada, que podem ser repetidas);\n",
        "Colar no álbum e verificar se o álbum está completo;\n",
        "Verificar se o álbum está completo;\n",
        "Unir todos os passos anteriores para simular o álbum completo."
      ]
    },
    {
      "cell_type": "code",
      "metadata": {
        "colab": {
          "base_uri": "https://localhost:8080/"
        },
        "id": "wj88z0lT9C_u",
        "outputId": "b684f3a6-7dae-4110-9aa4-a03cb00070d8"
      },
      "source": [
        "import numpy as np\n",
        "import random\n",
        "album_tam = 213\n",
        "figurinhas_pacote  = 4\n",
        "preco_album = 10\n",
        "preco_pacote = 4\n",
        "t=0\n",
        "repetir = 1000\n",
        "mais =np.zeros(repetir)\n",
        "total = np.zeros(repetir)\n",
        "media_pacotes = np.zeros(repetir)\n",
        "\n",
        "\n",
        "\n",
        "while t < repetir:\n",
        "  album = np.zeros(album_tam)\n",
        "  pacotes = 0\n",
        "  #if t % 100 == 0:\n",
        "   # print(t/10)\n",
        "  while True:\n",
        "    #comprndo figurinhas\n",
        "    pacotinho = np.random.choice(np.arange(0,album_tam), size =figurinhas_pacote)\n",
        "    pacotes += 1\n",
        "    #colando figurinhas\n",
        "    for i in[0,1,2,3]:\n",
        "      album[pacotinho[i]] +=1      \n",
        "    if np.all(album>=1):\n",
        "      mais[t]=album.max()\n",
        "     \n",
        "      break\n",
        "  total[t] = (pacotes*preco_pacote)+preco_album\n",
        "  media_pacotes[t] = pacotes\n",
        "  t +=1\n",
        "\n",
        "print('Gastro com cada album em uma simulação', repetir , 'vezes')\n",
        "print('Media de gastos ', total.mean())\n",
        "print('Media de pacotes gastos ', media_pacotes.mean().round(0))"
      ],
      "execution_count": 1,
      "outputs": [
        {
          "output_type": "stream",
          "text": [
            "Gastro com cada album em uma simulação 1000 vezes\n",
            "Media de gastos  1273.172\n",
            "Media de pacotes gastos  316.0\n"
          ],
          "name": "stdout"
        }
      ]
    },
    {
      "cell_type": "markdown",
      "metadata": {
        "id": "X0J5ZxRU1v6y"
      },
      "source": [
        "\n",
        "1. Quantas vezes saiu a figurinha mais repetida, em média?"
      ]
    },
    {
      "cell_type": "code",
      "metadata": {
        "colab": {
          "base_uri": "https://localhost:8080/"
        },
        "id": "DnPOT4gax_2F",
        "outputId": "619ba8df-cc13-4e55-c6ce-97e69caf6e81"
      },
      "source": [
        "\n",
        "print('A media da fiqgurinha que mais saiu foi  ', mais.mean())\n"
      ],
      "execution_count": 2,
      "outputs": [
        {
          "output_type": "stream",
          "text": [
            "A media da fiqgurinha que mais saiu foi   13.587\n"
          ],
          "name": "stdout"
        }
      ]
    }
  ]
}