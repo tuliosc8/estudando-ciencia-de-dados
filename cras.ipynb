{
  "nbformat": 4,
  "nbformat_minor": 0,
  "metadata": {
    "colab": {
      "name": "cras.ipynb",
      "provenance": [],
      "mount_file_id": "19g5q6wrKZ13TcnQojifdNetSGCca99HV",
      "authorship_tag": "ABX9TyNAqBD9v50vV3/zUWGMoUog",
      "include_colab_link": true
    },
    "kernelspec": {
      "name": "python3",
      "display_name": "Python 3"
    },
    "language_info": {
      "name": "python"
    }
  },
  "cells": [
    {
      "cell_type": "markdown",
      "metadata": {
        "id": "view-in-github",
        "colab_type": "text"
      },
      "source": [
        "<a href=\"https://colab.research.google.com/github/tuliosc8/estudando-ciencia-de-dados/blob/main/cras.ipynb\" target=\"_parent\"><img src=\"https://colab.research.google.com/assets/colab-badge.svg\" alt=\"Open In Colab\"/></a>"
      ]
    },
    {
      "cell_type": "code",
      "metadata": {
        "id": "7Bj6iWA2HeXP"
      },
      "source": [
        ""
      ],
      "execution_count": null,
      "outputs": []
    },
    {
      "cell_type": "code",
      "metadata": {
        "colab": {
          "base_uri": "https://localhost:8080/"
        },
        "id": "kFNr_GGt8vbL",
        "outputId": "081cb4bf-7ff8-4145-8490-685006d126ab"
      },
      "source": [
        "import pandas as pd\n",
        "caminho = '/content/data.xlsx'\n",
        "dados = pd.read_excel(caminho)\n",
        "dados.shape"
      ],
      "execution_count": null,
      "outputs": [
        {
          "output_type": "execute_result",
          "data": {
            "text/plain": [
              "(40, 18)"
            ]
          },
          "metadata": {
            "tags": []
          },
          "execution_count": 1
        }
      ]
    },
    {
      "cell_type": "code",
      "metadata": {
        "colab": {
          "base_uri": "https://localhost:8080/",
          "height": 247
        },
        "id": "uT93gfMXIK6Z",
        "outputId": "2d6a7aad-7260-42da-9ffb-af1f757142f4"
      },
      "source": [
        "dados.head(3)"
      ],
      "execution_count": null,
      "outputs": [
        {
          "output_type": "execute_result",
          "data": {
            "text/html": [
              "<div>\n",
              "<style scoped>\n",
              "    .dataframe tbody tr th:only-of-type {\n",
              "        vertical-align: middle;\n",
              "    }\n",
              "\n",
              "    .dataframe tbody tr th {\n",
              "        vertical-align: top;\n",
              "    }\n",
              "\n",
              "    .dataframe thead th {\n",
              "        text-align: right;\n",
              "    }\n",
              "</style>\n",
              "<table border=\"1\" class=\"dataframe\">\n",
              "  <thead>\n",
              "    <tr style=\"text-align: right;\">\n",
              "      <th></th>\n",
              "      <th>Unnamed: 0</th>\n",
              "      <th>atendimento Cadastro único</th>\n",
              "      <th>atendimento paif</th>\n",
              "      <th>VisitasFrustadas</th>\n",
              "      <th>Recepção</th>\n",
              "      <th>Acompanhamento</th>\n",
              "      <th>Atendimento</th>\n",
              "      <th>Total</th>\n",
              "      <th>InclusãoCadUnico</th>\n",
              "      <th>AtualizCadUnico</th>\n",
              "      <th>Inscrição Serviço de Convivência</th>\n",
              "      <th>recebeBF</th>\n",
              "      <th>BPCIDOSO</th>\n",
              "      <th>BPCDEFICIENTE</th>\n",
              "      <th>Visita domiciliar</th>\n",
              "      <th>Cadastronovo</th>\n",
              "      <th>CADASTROÚNICOnovo</th>\n",
              "      <th>cadastropaifnovo</th>\n",
              "    </tr>\n",
              "  </thead>\n",
              "  <tbody>\n",
              "    <tr>\n",
              "      <th>0</th>\n",
              "      <td>2018-01-01</td>\n",
              "      <td>275</td>\n",
              "      <td>150</td>\n",
              "      <td>2</td>\n",
              "      <td>45</td>\n",
              "      <td>31</td>\n",
              "      <td>72</td>\n",
              "      <td>425</td>\n",
              "      <td>35</td>\n",
              "      <td>238</td>\n",
              "      <td>6</td>\n",
              "      <td>120</td>\n",
              "      <td>5</td>\n",
              "      <td>12</td>\n",
              "      <td>11</td>\n",
              "      <td>88</td>\n",
              "      <td>80</td>\n",
              "      <td>8</td>\n",
              "    </tr>\n",
              "    <tr>\n",
              "      <th>1</th>\n",
              "      <td>2018-02-01</td>\n",
              "      <td>201</td>\n",
              "      <td>88</td>\n",
              "      <td>0</td>\n",
              "      <td>21</td>\n",
              "      <td>18</td>\n",
              "      <td>49</td>\n",
              "      <td>289</td>\n",
              "      <td>52</td>\n",
              "      <td>133</td>\n",
              "      <td>4</td>\n",
              "      <td>72</td>\n",
              "      <td>13</td>\n",
              "      <td>20</td>\n",
              "      <td>0</td>\n",
              "      <td>77</td>\n",
              "      <td>73</td>\n",
              "      <td>4</td>\n",
              "    </tr>\n",
              "    <tr>\n",
              "      <th>2</th>\n",
              "      <td>2018-03-01</td>\n",
              "      <td>220</td>\n",
              "      <td>199</td>\n",
              "      <td>1</td>\n",
              "      <td>41</td>\n",
              "      <td>51</td>\n",
              "      <td>106</td>\n",
              "      <td>419</td>\n",
              "      <td>26</td>\n",
              "      <td>173</td>\n",
              "      <td>5</td>\n",
              "      <td>174</td>\n",
              "      <td>18</td>\n",
              "      <td>46</td>\n",
              "      <td>17</td>\n",
              "      <td>85</td>\n",
              "      <td>67</td>\n",
              "      <td>18</td>\n",
              "    </tr>\n",
              "  </tbody>\n",
              "</table>\n",
              "</div>"
            ],
            "text/plain": [
              "  Unnamed: 0  atendimento Cadastro único  ...  CADASTROÚNICOnovo  cadastropaifnovo\n",
              "0 2018-01-01                         275  ...                 80                 8\n",
              "1 2018-02-01                         201  ...                 73                 4\n",
              "2 2018-03-01                         220  ...                 67                18\n",
              "\n",
              "[3 rows x 18 columns]"
            ]
          },
          "metadata": {
            "tags": []
          },
          "execution_count": 2
        }
      ]
    },
    {
      "cell_type": "markdown",
      "metadata": {
        "id": "tXGoR-PLskdW"
      },
      "source": [
        "Total de atendimentos no cras"
      ]
    },
    {
      "cell_type": "code",
      "metadata": {
        "colab": {
          "base_uri": "https://localhost:8080/"
        },
        "id": "S3qf_8i0rYGF",
        "outputId": "ec07b70a-0f86-4547-d1f7-eb8a22f198ed"
      },
      "source": [
        "print(dados['Total'].sum(0))\n"
      ],
      "execution_count": null,
      "outputs": [
        {
          "output_type": "stream",
          "text": [
            "11164\n"
          ],
          "name": "stdout"
        }
      ]
    },
    {
      "cell_type": "markdown",
      "metadata": {
        "id": "sN9zAMyg-Mwc"
      },
      "source": [
        "Total de atendimentos do cadastro unico e a media de atendimento por mês. \n",
        "A media de familias que atualizarão o cadastro único.\n",
        "A media de familias que fizeram o cadastro único.\n",
        "\n",
        "\n",
        "\n"
      ]
    },
    {
      "cell_type": "code",
      "metadata": {
        "colab": {
          "base_uri": "https://localhost:8080/"
        },
        "id": "sMoa_V1GJLhv",
        "outputId": "ad9fd660-a508-464d-fa52-e756cb3da055"
      },
      "source": [
        "\n",
        "print(dados['atendimento Cadastro único'].sum())\n",
        "print(dados['atendimento Cadastro único'].mean())\n",
        "print(dados['AtualizCadUnico'].mean())\n",
        "print(dados['InclusãoCadUnico '].mean())"
      ],
      "execution_count": null,
      "outputs": [
        {
          "output_type": "stream",
          "text": [
            "6438\n",
            "160.95\n",
            "87.05\n",
            "61.85\n"
          ],
          "name": "stdout"
        }
      ]
    },
    {
      "cell_type": "code",
      "metadata": {
        "id": "wR6g-akrIfm4"
      },
      "source": [
        "Media de atendimentos das familias para cadastro único"
      ],
      "execution_count": null,
      "outputs": []
    },
    {
      "cell_type": "code",
      "metadata": {
        "colab": {
          "base_uri": "https://localhost:8080/",
          "height": 265
        },
        "id": "PcHJtWvd9IDp",
        "outputId": "505549ed-4071-4f70-f799-e0f51a9a94b0"
      },
      "source": [
        "dados[['atendimento Cadastro único']].plot();"
      ],
      "execution_count": null,
      "outputs": [
        {
          "output_type": "display_data",
          "data": {
            "image/png": "[encoded data removed]",
            "text/plain": [
              "<Figure size 432x288 with 1 Axes>"
            ]
          },
          "metadata": {
            "tags": [],
            "needs_background": "light"
          }
        }
      ]
    },
    {
      "cell_type": "code",
      "metadata": {
        "colab": {
          "base_uri": "https://localhost:8080/"
        },
        "id": "CbvozdDTs6Nz",
        "outputId": "e8217f25-1cfe-4e68-bf3d-cb0e1b911c37"
      },
      "source": [
        "\n",
        "dados.sum().sort_values()"
      ],
      "execution_count": null,
      "outputs": [
        {
          "output_type": "execute_result",
          "data": {
            "text/plain": [
              "VisitasFrustadas                                22\n",
              "Inscrição Serviço de Convivência               105\n",
              "Visita domiciliar                              265\n",
              "cadastropaifnovo                               363\n",
              "BPCIDOSO                                       404\n",
              "Acompanhamento                                 612\n",
              "BPCDEFICIENTE                                  718\n",
              "Recepção                                       799\n",
              "CADASTROÚNICOnovo                             1737\n",
              "Cadastronovo                                  2001\n",
              "InclusãoCadUnico                              2474\n",
              "Atendimento                                   3293\n",
              "AtualizCadUnico                               3482\n",
              "recebeBF                                      4532\n",
              "atendimento paif                              4726\n",
              "atendimento Cadastro único                    6438\n",
              "Total                                        11164\n",
              "dtype: int64"
            ]
          },
          "metadata": {
            "tags": []
          },
          "execution_count": 8
        }
      ]
    },
    {
      "cell_type": "markdown",
      "metadata": {
        "id": "9dHeFXajGOOl"
      },
      "source": [
        "O tatal e a media do primeiro atendomento do cras para um familia."
      ]
    },
    {
      "cell_type": "code",
      "metadata": {
        "colab": {
          "base_uri": "https://localhost:8080/"
        },
        "id": "fjAJz3kFA16W",
        "outputId": "507a786d-46db-4e45-8a02-8de796863c02"
      },
      "source": [
        "print(dados['Cadastronovo'].sum())\n",
        "print(dados['Cadastronovo'].mean())\n"
      ],
      "execution_count": null,
      "outputs": [
        {
          "output_type": "stream",
          "text": [
            "2001\n",
            "50.025\n"
          ],
          "name": "stdout"
        }
      ]
    },
    {
      "cell_type": "markdown",
      "metadata": {
        "id": "zBSfQfN4Co29"
      },
      "source": [
        "Novos cadastros de familias por mês no CRAS"
      ]
    },
    {
      "cell_type": "code",
      "metadata": {
        "colab": {
          "base_uri": "https://localhost:8080/",
          "height": 265
        },
        "id": "epsJAqfhCfFs",
        "outputId": "2fd6742c-8a04-4209-e83d-48928341a067"
      },
      "source": [
        "dados[['Cadastronovo']].plot();"
      ],
      "execution_count": null,
      "outputs": [
        {
          "output_type": "display_data",
          "data": {
            "image/png": "[encoded data removed]",
            "text/plain": [
              "<Figure size 432x288 with 1 Axes>"
            ]
          },
          "metadata": {
            "tags": [],
            "needs_background": "light"
          }
        }
      ]
    },
    {
      "cell_type": "markdown",
      "metadata": {
        "id": "cNT_87S8G9JC"
      },
      "source": [
        "Media de familias atenditas que tem algum idoso que recebe BPC por idade.\n"
      ]
    },
    {
      "cell_type": "code",
      "metadata": {
        "colab": {
          "base_uri": "https://localhost:8080/"
        },
        "id": "btN0dninHGO0",
        "outputId": "36eed83f-9b58-4f70-96ff-69b2fbd35f73"
      },
      "source": [
        "print(dados['BPCIDOSO'].mean())"
      ],
      "execution_count": null,
      "outputs": [
        {
          "output_type": "stream",
          "text": [
            "10.1\n"
          ],
          "name": "stdout"
        }
      ]
    },
    {
      "cell_type": "markdown",
      "metadata": {
        "id": "NWK8Cmnxv298"
      },
      "source": [
        "Media das familias que foram atendidas no cras e tem alguem deficiente recebendo BPC"
      ]
    },
    {
      "cell_type": "code",
      "metadata": {
        "colab": {
          "base_uri": "https://localhost:8080/"
        },
        "id": "UKSdR76UwIEU",
        "outputId": "f98f555e-e4c4-4f10-c7ae-a1b5d4d5895c"
      },
      "source": [
        "print(dados['BPCDEFICIENTE'].mean())"
      ],
      "execution_count": null,
      "outputs": [
        {
          "output_type": "stream",
          "text": [
            "17.95\n"
          ],
          "name": "stdout"
        }
      ]
    },
    {
      "cell_type": "markdown",
      "metadata": {
        "id": "O09LX-ymwgKx"
      },
      "source": [
        "Media das familias que foram atendidas no cras e tem alguem deficiente recebendo bolsa familia"
      ]
    },
    {
      "cell_type": "code",
      "metadata": {
        "colab": {
          "base_uri": "https://localhost:8080/"
        },
        "id": "RVrLc-qHwgSS",
        "outputId": "5891aff1-b469-4ebe-c794-ce9e863272d4"
      },
      "source": [
        "print(dados['recebeBF'].mean())"
      ],
      "execution_count": null,
      "outputs": [
        {
          "output_type": "stream",
          "text": [
            "113.3\n"
          ],
          "name": "stdout"
        }
      ]
    },
    {
      "cell_type": "markdown",
      "metadata": {
        "id": "C80ORFx6w7Xi"
      },
      "source": [
        "Total de atendimentos pelas assitentes sociais e a media."
      ]
    },
    {
      "cell_type": "code",
      "metadata": {
        "colab": {
          "base_uri": "https://localhost:8080/"
        },
        "id": "JBw3bULkw7mC",
        "outputId": "f73d25ea-7592-4bd2-e7eb-380561cf7bee"
      },
      "source": [
        "print(dados['atendimento paif'].sum())\n",
        "print(dados['atendimento paif'].mean())"
      ],
      "execution_count": null,
      "outputs": [
        {
          "output_type": "stream",
          "text": [
            "4726\n",
            "118.15\n"
          ],
          "name": "stdout"
        }
      ]
    }
  ]
}