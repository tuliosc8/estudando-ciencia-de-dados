{
  "nbformat": 4,
  "nbformat_minor": 0,
  "metadata": {
    "colab": {
      "name": "megasena2.ipynb",
      "provenance": [],
      "authorship_tag": "ABX9TyPXJYi5R65QGaxe+tmL3ItO",
      "include_colab_link": true
    },
    "kernelspec": {
      "name": "python3",
      "display_name": "Python 3"
    },
    "language_info": {
      "name": "python"
    }
  },
  "cells": [
    {
      "cell_type": "markdown",
      "metadata": {
        "id": "view-in-github",
        "colab_type": "text"
      },
      "source": [
        "<a href=\"https://colab.research.google.com/github/tuliosc8/estudando-ciencia-de-dados/blob/main/megasena2.ipynb\" target=\"_parent\"><img src=\"https://colab.research.google.com/assets/colab-badge.svg\" alt=\"Open In Colab\"/></a>"
      ]
    },
    {
      "cell_type": "code",
      "metadata": {
        "id": "WiLwltBN3NtS"
      },
      "source": [
        "import random\n",
        "vlaposta =4.5\n",
        "sorteio = random.sample(range(1,60), k = 6)\n",
        "sorteio.sort()"
      ],
      "execution_count": 1,
      "outputs": []
    },
    {
      "cell_type": "code",
      "metadata": {
        "colab": {
          "base_uri": "https://localhost:8080/"
        },
        "id": "-ZGFVbXsLhe5",
        "outputId": "81653171-3433-4eec-bf65-fc79fc17392f"
      },
      "source": [
        "apostas = 0\n",
        "atertototal = [0,0,0,0,0,0,0]\n",
        "maxtentativas = 100000000\n",
        "while  (atertototal[6]<1 and apostas<maxtentativas) : \n",
        "  meujogo = random.sample(range(1,60), k = 6)\n",
        "  meujogo.sort()\n",
        "  \n",
        "  acertos = set(meujogo).intersection(set(sorteio))\n",
        "  apostas +=1\n",
        "  posicao = len(acertos)\n",
        "  atertototal[posicao] =  atertototal[posicao] + 1\n",
        "\n",
        "print('Numeros de aposta do ultimo sorteio', apostas)  \n",
        "print(atertototal)\n",
        "print(meujogo)\n",
        "print(sorteio)\n",
        "arrecadacao = apostas*vlaposta\n",
        "premiobruto = arrecadacao*0.4335\n",
        "\n",
        "\n"
      ],
      "execution_count": 2,
      "outputs": [
        {
          "output_type": "stream",
          "text": [
            "Numeros de aposta do ultimo sorteio 41687788\n",
            "[21238124, 15936426, 4061381, 432242, 19292, 322, 1]\n",
            "[3, 17, 29, 37, 39, 46]\n",
            "[3, 17, 29, 37, 39, 46]\n"
          ],
          "name": "stdout"
        }
      ]
    },
    {
      "cell_type": "code",
      "metadata": {
        "id": "81jKWm3vDjd7",
        "colab": {
          "base_uri": "https://localhost:8080/"
        },
        "outputId": "5f850bf8-8316-4dc4-c344-b64a54905a06"
      },
      "source": [
        "\n",
        "print('valor arrecadado com apostas', round(arrecadacao))\n",
        "print('Parte dos valor arrecadado vai para ')\n",
        "print('Comitê Olímpico Brasileiro ', round(arrecadacao*0.017))\n",
        "print('Comitê Paraolímpico Brasileiro ', round(arrecadacao*0.03))\n",
        "print('Seguridade Social ', round(arrecadacao*0.181))\n",
        "print('Imposto de Renda Federal ', round(arrecadacao*0.138))\n",
        "print('Fies -Crédito Educativo ', round(arrecadacao*0.776))\n",
        "print('Fundo Penitenciário Nacional ', round(arrecadacao*0.0314))\n",
        "print('Despesa de Custeio e Manutenção de Serviços ', round(arrecadacao*0.20))\n",
        "print('Tarifa de Administração ', round(arrecadacao*0.10))\n",
        "print('Comissão dos Lotéricos ', round(arrecadacao*0.09))\n",
        "print('FDL - Fundo Desenvolvimento das Loterias ', round(arrecadacao*0.01))\n"
      ],
      "execution_count": 4,
      "outputs": [
        {
          "output_type": "stream",
          "text": [
            "valor arrecadado com apostas 187595046\n",
            "Parte dos valor arrecadado vai para \n",
            "Comitê Olímpico Brasileiro  3189116\n",
            "Comitê Paraolímpico Brasileiro  5627851\n",
            "Seguridade Social  33954703\n",
            "Imposto de Renda Federal  25888116\n",
            "Fies -Crédito Educativo  145573756\n",
            "Fundo Penitenciário Nacional  5890484\n",
            "Despesa de Custeio e Manutenção de Serviços  37519009\n",
            "Tarifa de Administração  18759505\n",
            "Comissão dos Lotéricos  16883554\n",
            "FDL - Fundo Desenvolvimento das Loterias  1875950\n"
          ],
          "name": "stdout"
        }
      ]
    },
    {
      "cell_type": "markdown",
      "metadata": {
        "id": "-yRLFk5fBxX6"
      },
      "source": [
        "Probabilidade de não acerta nenhum numero."
      ]
    },
    {
      "cell_type": "code",
      "metadata": {
        "colab": {
          "base_uri": "https://localhost:8080/"
        },
        "id": "rGUrtEQTCtQf",
        "outputId": "ed627f45-5284-4668-f9a1-3679646495b2"
      },
      "source": [
        "print(round((atertototal[0]/apostas)*100,2),'% em', apostas, 'apostas ')"
      ],
      "execution_count": 5,
      "outputs": [
        {
          "output_type": "stream",
          "text": [
            "50.95 % em 41687788 apostas \n"
          ],
          "name": "stdout"
        }
      ]
    },
    {
      "cell_type": "markdown",
      "metadata": {
        "id": "6PWw7eXxBxkA"
      },
      "source": [
        "Probabilidade de acerta um numero."
      ]
    },
    {
      "cell_type": "code",
      "metadata": {
        "colab": {
          "base_uri": "https://localhost:8080/"
        },
        "id": "WEf9kHQYDeCD",
        "outputId": "184b6757-f6f3-49e1-fc16-b91a8934396d"
      },
      "source": [
        "print(round((atertototal[1]/apostas)*100,2),'% em', apostas, 'apostas ')"
      ],
      "execution_count": 6,
      "outputs": [
        {
          "output_type": "stream",
          "text": [
            "38.23 % em 41687788 apostas \n"
          ],
          "name": "stdout"
        }
      ]
    },
    {
      "cell_type": "markdown",
      "metadata": {
        "id": "tOgF8ULHBx8J"
      },
      "source": [
        "Probabilidade de acerta dois numero."
      ]
    },
    {
      "cell_type": "code",
      "metadata": {
        "colab": {
          "base_uri": "https://localhost:8080/"
        },
        "id": "Wtunsoc1DeyL",
        "outputId": "50bba2ec-4507-48fc-e2bc-07dd15b4ffc7"
      },
      "source": [
        "print(round((atertototal[2]/apostas)*100,2),'% em', apostas, 'apostas ')"
      ],
      "execution_count": 7,
      "outputs": [
        {
          "output_type": "stream",
          "text": [
            "9.74 % em 41687788 apostas \n"
          ],
          "name": "stdout"
        }
      ]
    },
    {
      "cell_type": "markdown",
      "metadata": {
        "id": "d7wXg_dDCNN1"
      },
      "source": [
        "Probabilidade de acerta tres numero."
      ]
    },
    {
      "cell_type": "code",
      "metadata": {
        "colab": {
          "base_uri": "https://localhost:8080/"
        },
        "id": "v_5DYhN1DfVJ",
        "outputId": "6aced93b-5beb-42ae-9475-9f80fe67d2d2"
      },
      "source": [
        "print(round((atertototal[3]/apostas)*100,2),'% em', apostas, 'apostas')"
      ],
      "execution_count": 8,
      "outputs": [
        {
          "output_type": "stream",
          "text": [
            "1.04 % em 41687788 apostas\n"
          ],
          "name": "stdout"
        }
      ]
    },
    {
      "cell_type": "markdown",
      "metadata": {
        "id": "80TAW9ksBxu4"
      },
      "source": [
        "Probabilidade de fazer a quadra(4)."
      ]
    },
    {
      "cell_type": "code",
      "metadata": {
        "colab": {
          "base_uri": "https://localhost:8080/"
        },
        "id": "8SclWRCyDf_y",
        "outputId": "c69a4f29-afd5-4558-a99d-9a72b0f158cd"
      },
      "source": [
        "print(round((atertototal[4]/apostas)*100,5),'% em', apostas, 'apostas ')\n",
        "if atertototal[4]==0:\n",
        "  print('não teve ganhador')\n",
        "else:\n",
        "  quadra = (premiobruto*0.20)/atertototal[4]\n",
        "  print('foram',atertototal[4], ' ganhadores e cada ganhador vai receber o valor de ',round(quadra))"
      ],
      "execution_count": 11,
      "outputs": [
        {
          "output_type": "stream",
          "text": [
            "0.04628 % em 41687788 apostas \n",
            "foram 19292  ganhadores e cada ganhador vai receber o valor de  843\n"
          ],
          "name": "stdout"
        }
      ]
    },
    {
      "cell_type": "markdown",
      "metadata": {
        "id": "FjM1krm-CYyv"
      },
      "source": [
        "Probabilidade de fazer a quina(5)."
      ]
    },
    {
      "cell_type": "code",
      "metadata": {
        "colab": {
          "base_uri": "https://localhost:8080/"
        },
        "id": "EXV45fraDgch",
        "outputId": "839d756a-91ee-485b-d9d9-08de3d9b3b18"
      },
      "source": [
        "print(round((atertototal[5]/apostas)*100,6),'% em',apostas, 'apostas ')\n",
        "if atertototal[5]==0:\n",
        "  print('não teve ganhador')\n",
        "else:\n",
        "  quina = (premiobruto*0.20)/atertototal[5]\n",
        "  print('foram',atertototal[5], ' ganhadores e cada ganhador vai receber o valor de ',round(quina))"
      ],
      "execution_count": 10,
      "outputs": [
        {
          "output_type": "stream",
          "text": [
            "0.000772 % em 41687788 apostas \n",
            "foram 322  ganhadores e cada ganhador vai receber o valor de  50511\n"
          ],
          "name": "stdout"
        }
      ]
    },
    {
      "cell_type": "markdown",
      "metadata": {
        "id": "T4LY5shwCY9G"
      },
      "source": [
        "Probabilidade de fazer a sena(6)."
      ]
    },
    {
      "cell_type": "code",
      "metadata": {
        "colab": {
          "base_uri": "https://localhost:8080/"
        },
        "id": "n_eYokcIDg_T",
        "outputId": "24b5761c-c1d1-4be2-88f5-8fb38ec9fdf7"
      },
      "source": [
        "print((atertototal[6]/apostas)*100,'% em', apostas, 'apostas')\n",
        "if atertototal[6]==0:\n",
        "  print('não teve ganhador')\n",
        "else:\n",
        "  valorsena = (premiobruto*0.35)/atertototal[6]\n",
        "  print('foram',atertototal[6], ' ganhador e  vai receber o valor de ',round(valorsena))"
      ],
      "execution_count": 12,
      "outputs": [
        {
          "output_type": "stream",
          "text": [
            "2.398784027591006e-06 % em 41687788 apostas\n",
            "foram 1  ganhador e  vai receber o valor de  28462858\n"
          ],
          "name": "stdout"
        }
      ]
    }
  ]
}